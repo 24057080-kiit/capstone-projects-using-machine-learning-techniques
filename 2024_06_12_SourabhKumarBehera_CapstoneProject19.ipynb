{
  "nbformat": 4,
  "nbformat_minor": 0,
  "metadata": {
    "colab": {
      "provenance": [],
      "include_colab_link": true
    },
    "kernelspec": {
      "name": "python3",
      "display_name": "Python 3"
    },
    "language_info": {
      "name": "python"
    }
  },
  "cells": [
    {
      "cell_type": "markdown",
      "metadata": {
        "id": "view-in-github",
        "colab_type": "text"
      },
      "source": [
        "<a href=\"https://colab.research.google.com/github/24057080-kiit/capstone-projects-using-machine-learning-techniques/blob/main/2024_06_12_SourabhKumarBehera_CapstoneProject19.ipynb\" target=\"_parent\"><img src=\"https://colab.research.google.com/assets/colab-badge.svg\" alt=\"Open In Colab\"/></a>"
      ]
    },
    {
      "cell_type": "markdown",
      "metadata": {
        "id": "erYQyGJOT0Ya"
      },
      "source": [
        "# Capstone Project 19: Early Diabetes Prediction"
      ]
    },
    {
      "cell_type": "markdown",
      "metadata": {
        "id": "bEyBzxYRhrLG"
      },
      "source": [
        "#### Goal of the Project\n",
        "\n",
        "This project is designed for you to practice and solve the activities that are based on the concepts covered in the lessons:\n",
        "\n",
        "  - Multipage Streamlit App I\n",
        "\n",
        "  - Multipage Streamlit App II\n",
        "\n",
        "  - Decision Trees I to Decision Trees IV\n"
      ]
    },
    {
      "cell_type": "markdown",
      "metadata": {
        "id": "pIrCR0_QMp18"
      },
      "source": [
        "---"
      ]
    },
    {
      "cell_type": "markdown",
      "metadata": {
        "id": "xIxZf8i2Ntrt"
      },
      "source": [
        "### Context\n",
        "\n",
        "Diabetes is a chronic (long-lasting) health condition that affects how your body turns food into energy.\n",
        "\n",
        "Most of the food you eat is broken down into sugar (also called glucose) and released into your bloodstream. When your blood sugar goes up, it signals your pancreas to release insulin. Insulin acts like a key to let the blood sugar into your body’s cells for use as energy.\n",
        "\n",
        "If you have diabetes, your body either doesn’t make enough insulin or can’t use the insulin it makes as well as it should. When there isn’t enough insulin or cells stop responding to insulin, too much blood sugar stays in your bloodstream. Over time, that can cause serious health problems, such as heart disease, vision loss, and kidney disease.\n",
        "\n",
        "There isn’t a cure yet for diabetes, but losing weight, eating healthy food, and being active can really help in reducing the impact of diabetes.\n"
      ]
    },
    {
      "cell_type": "markdown",
      "metadata": {
        "id": "szHC4TK3NvCq"
      },
      "source": [
        "---"
      ]
    },
    {
      "cell_type": "markdown",
      "metadata": {
        "id": "EISpEhKZ_JVo"
      },
      "source": [
        "#### Getting Started\n",
        "\n",
        "Follow the steps described below to solve the project:\n",
        "\n",
        "1. Click on the link provided below to open the Colab file for this project.\n",
        "   \n",
        "   https://colab.research.google.com/drive/1YTyQ05Cki451s-mJh9j2fhcfIrSPvDiJ\n",
        "\n",
        "2. Create the duplicate copy of the Colab file. Here are the steps to create the duplicate copy:\n",
        "\n",
        "    - Click on the **File** menu. A new drop-down list will appear.\n",
        "\n",
        "      <img src='https://student-datasets-bucket.s3.ap-south-1.amazonaws.com/images/project-share-images/0_file_menu.png' width=500>\n",
        "\n",
        "    - Click on the **Save a copy in Drive** option. A duplicate copy will get created. It will open up in the new tab on your web browser.\n",
        "\n",
        "      <img src='https://student-datasets-bucket.s3.ap-south-1.amazonaws.com/images/project-share-images/1_create_colab_duplicate_copy.png' width=500>\n",
        "\n",
        "     - After creating the duplicate copy of the notebook, please rename it in the **YYYY-MM-DD_StudentName_CapstoneProject19** format.\n",
        "\n",
        "3. Now, write your code in the prescribed code cells."
      ]
    },
    {
      "cell_type": "markdown",
      "metadata": {
        "id": "EeswcKVn_I2I"
      },
      "source": [
        "---"
      ]
    },
    {
      "cell_type": "markdown",
      "metadata": {
        "id": "oHEruqrlZewu"
      },
      "source": [
        "#### Problem Statement\n",
        "\n",
        "In this project, you are going to create a Multipage Early Diabetes Prediction Web app using the Streamlit framework.\n",
        "\n",
        "This web app will do the following:\n",
        "\n",
        "- Predicts whether a person has diabetes or is prone to get diabetes in future by analysing the values of several features using the Decision Tree Classifier.\n",
        "\n",
        "- Displays the correlation heatmap, confusion matrix plot and a decision tree plot.\n",
        "\n"
      ]
    },
    {
      "cell_type": "markdown",
      "metadata": {
        "id": "qIVNEyp4Mrem"
      },
      "source": [
        "---"
      ]
    },
    {
      "cell_type": "markdown",
      "metadata": {
        "id": "2LpOy28nkFG_"
      },
      "source": [
        "### Dataset Description\n",
        "\n",
        "This dataset is originally from the National Institute of Diabetes and Digestive and Kidney Diseases. The objective of the dataset is to diagnostically predict whether or not a patient has diabetes, based on certain diagnostic measurements included in the dataset.\n",
        "\n",
        "The dataset includes 768 instances with 7 features and 1 target column (`Outcome`) which can be briefed as:\n",
        "\n",
        "|Field|Description|\n",
        "|---:|:---|\n",
        "|Pregnancies|Number of times pregnant|\n",
        "|Glucose|Plasma glucose concentration in an oral glucose tolerance test|\n",
        "|BloodPressure|Diastolic blood pressure (mm Hg)|\n",
        "|SkinThickness|Triceps skin fold thickness (mm)|\n",
        "|Insulin|2-Hour serum insulin (mu U/ml)|\n",
        "|BMI|Body mass index (weight in $kg$ and height in $m^2$)|\n",
        "|DiabetesPedigreeFunction|A function which scores likelihood of diabetes based on family history|\n",
        "|Age|Age of the person|\n",
        "|Outcome|0 - The person does not have diabetes|\n",
        "||1 - The person has diabetes|\n",
        "\n",
        "\n",
        "**Dataset Credits:** https://www.kaggle.com/uciml/pima-indians-diabetes-database\n"
      ]
    },
    {
      "cell_type": "markdown",
      "metadata": {
        "id": "83FgC947OzV4"
      },
      "source": [
        "---"
      ]
    },
    {
      "cell_type": "markdown",
      "metadata": {
        "id": "dkkg2QzEu3lP"
      },
      "source": [
        "### Things to do\n",
        "\n",
        "1. Design the **Home page** of the Web app to display the Dataset information.\n",
        "  \n",
        "2. Create Decision Tree classifier and Optimised Decision Tree using the `GridSearchCV` to predict diabetes based on the values of features.\n",
        "\n",
        "3. Design the **Prediction page** of the Web app that allow users to select the values of the features and display the prediction results on a click of the `Predict` button.\n",
        "\n",
        "4. Design the **Visualise Decision tree** page that allow users to\n",
        "\n",
        " - Get the top correlated features using a correlation heatmap.\n",
        "\n",
        " - Display the confusion matrix plot to get the performance of the classifier.\n",
        "\n",
        " - Visualise the classifier with the help of an actual decision tree plot.  \n",
        "\n"
      ]
    },
    {
      "cell_type": "markdown",
      "metadata": {
        "id": "eUc0Lq-HlQ3O"
      },
      "source": [
        "---"
      ]
    },
    {
      "cell_type": "markdown",
      "metadata": {
        "id": "DQSgqaR1lire"
      },
      "source": [
        "#### Activity 1: Creating Python File for Diabetes Prediction Web App\n",
        "\n",
        "In this activity, you have to create the `diabetes_main.py` file in Sublime editor and save it in the `Python_scripts` folder.\n",
        "\n",
        "Copy the code given below in the `diabetes_main.py` file. You are already aware of this code which creates a function that will load the data from the csv file.\n",
        "\n",
        "**Dataset Download Link:** https://s3-whjr-curriculum-uploads.whjr.online/b510b80d-2fd6-4c08-bfdf-2a24f733551d.csv\n",
        "\n",
        "**Note:** Do not run the code shown below. It will throw an error.\n"
      ]
    },
    {
      "cell_type": "code",
      "metadata": {
        "id": "4AWWc0FxkxCq"
      },
      "source": [
        "# Code for 'diabetes_main.py' file.\n",
        "\n",
        "# Importing the necessary Python modules.\n",
        "import streamlit as st\n",
        "import numpy as np\n",
        "import pandas as pd\n",
        "\n",
        "# Configure your home page by setting its title and icon that will be displayed in a browser tab.\n",
        "st.set_page_config(page_title = 'Early Diabetes Prediction Web App',\n",
        "                    page_icon = 'random',\n",
        "                    layout = 'wide',\n",
        "                    initial_sidebar_state = 'auto'\n",
        "                    )\n",
        "\n",
        "# Loading the dataset.\n",
        "@st.cache()\n",
        "def load_data():\n",
        "    # Load the Diabetes dataset into DataFrame.\n",
        "\n",
        "    df = pd.read_csv('https://s3-whjr-curriculum-uploads.whjr.online/b510b80d-2fd6-4c08-bfdf-2a24f733551d.csv')\n",
        "    df.head()\n",
        "\n",
        "    # Rename the column names in the DataFrame.\n",
        "    df.rename(columns = {\"BloodPressure\": \"Blood_Pressure\",}, inplace = True)\n",
        "    df.rename(columns = {\"SkinThickness\": \"Skin_Thickness\",}, inplace = True)\n",
        "    df.rename(columns = {\"DiabetesPedigreeFunction\": \"Pedigree_Function\",}, inplace = True)\n",
        "\n",
        "    df.head()\n",
        "\n",
        "    return df\n",
        "\n",
        "diabetes_df = load_data()"
      ],
      "execution_count": null,
      "outputs": []
    },
    {
      "cell_type": "markdown",
      "metadata": {
        "id": "akBJfl-1CJBB"
      },
      "source": [
        "---"
      ]
    },
    {
      "cell_type": "markdown",
      "metadata": {
        "id": "TVFgK_fp6fqT"
      },
      "source": [
        "#### Activity 2: Page Navigator\n",
        "\n",
        "In this activity, you need to add radio button widgets to navigate through the **Home**, **Predict Diabetes** and **Visualise Decision Tree** web pages in the web app as shown in the image below:\n",
        "\n",
        "<img src=\"https://i.imgur.com/1KMYS5M.png\">\n",
        "\n",
        "You need to create three empty Python files that are `diabetes_home.py`, `diabetes_predict` and `diabetes_plots.py` inside the same folder that contains the `diabetes_main.py`.\n",
        "\n",
        "- When a user selects the `Home` option, the `diabetes_home.py` script will be rendered.\n",
        "\n",
        "- When a user selects the `Predict Diabetes` option, the `diabetes_predict.py` script will be rendered.\n",
        "\n",
        "- When a user selects the `Visualise Decision Tree` option, the `diabetes.py` script will be rendered.\n",
        "\n",
        "To create this navigation bar, perform the following tasks in `diabetes_main.py` file:\n",
        "\n",
        "1. Import the `diabetes_home.py`, `diabetes_predict` and `diabetes_plots.py` files in the `diabetes_main.py` respectively.\n",
        "\n",
        "2. Create a dictionary, say `pages_dict`, with keys being the label to be displayed in the navigation bar and values being the name of Python script to be rendered:\n",
        "\n",
        "  ```python\n",
        "  pages_dict = {\"Home\": diabetes_home,\n",
        "              \"Predict Diabetes\": diabetes_predict,\n",
        "              \"Visualise Decision Tree\": diabetes_plots}\n",
        "  ```\n",
        "\n",
        "4. Add a title in the sidebar with the label `Navigation`.\n",
        "\n",
        "5. Add a radio button widget with the label `Go to` and options as keys of the `pages_dict` dictionary. Pass these keys in the form of a list or a tuple as the options to the radio button widget can only be provided in the form of a list or a tuple.\n",
        "\n",
        "6. Store the current value of this radio button widget in a `user_choice` variable.\n",
        "\n",
        "6. Obtain the corresponding value of the key stored in the `user_choice` variable by passing it to the `pages_dict` dictionary. Store the value obtained from the  dictionary in a variable, say `selected_page`. It will have any value amongst `diabetes_home.py`, `diabetes_predict` or `diabetes_plots.py`.\n",
        "\n",
        "7. Call the user defined `app()` function using `selected_page` variable and pass `diabetes_df` as input to the `app()` function."
      ]
    },
    {
      "cell_type": "code",
      "metadata": {
        "id": "LcL5BKVP6fCc"
      },
      "source": [
        "# Create the Page Navigator for 'Home', 'Predict Diabetes' and 'Visualise Decision Tree' web pages in 'diabetes_main.py'\n",
        "# Import the 'diabetes_predict' 'diabetes_home', 'diabetes_plots' Python files\n",
        "\n",
        "# Adding a navigation in the sidebar using radio buttons\n",
        "# Create the 'pages_dict' dictionary to navigate.\n",
        "pages_dict = {\"Home\": diabetes_home,\n",
        "           \"Predict Diabetes\": diabetes_predict,\n",
        "           \"Visualise Decision Tree\": diabetes_plots}\n",
        "# Add radio buttons in the sidebar for navigation and call the respective pages based on user selection.\n",
        "st.sidebar.title('Navigation')\n",
        "selection = st.sidebar.radio('GO to',tuple(pages_dict.keys()))\n",
        "page = pages_dict[selection]\n",
        "page.app(diabetes_df)"
      ],
      "execution_count": null,
      "outputs": []
    },
    {
      "cell_type": "markdown",
      "metadata": {
        "id": "n5UmK3HgBjXf"
      },
      "source": [
        "\n",
        "After this activity, the user must be able to navigate between Home page, Prediction Diabetes Page and Visualise Decision Tree  page using the radio buttons in the sidebar."
      ]
    },
    {
      "cell_type": "markdown",
      "metadata": {
        "id": "7vDlD2qeliBz"
      },
      "source": [
        "---"
      ]
    },
    {
      "cell_type": "markdown",
      "metadata": {
        "id": "JX8vC-aYCVAK"
      },
      "source": [
        "#### Activity 3: Home Page Configuration\n",
        "\n",
        "Open the blank `diabetes_home.py` file that you had created in the previous activity. Create a function `app()` in this file with `diabetes_df` as its input and perform the following tasks within this `app()` function:\n",
        "\n",
        "1. Write the following descrition of the Web app and style it using the `markdown()` function of Streamlit.\n",
        "\n",
        "  ```\n",
        "  Diabetes is a chronic (long-lasting) health condition that affects how your body turns food into energy.\n",
        "                \n",
        "  There isn’t a cure yet for diabetes, but losing weight, eating healthy food, and being active can really help in reducing the impact of diabetes.\n",
        "\n",
        "  This Web app will help you to predict whether a person has diabetes or is prone to get diabetes in future by analysing the values of several features using the Decision Tree Classifier.\n",
        "  \n",
        "  ```\n",
        "\n",
        "2. Add the code to display and hide the entire dataset using `st.beta_expander()` and `st.dataframe()` widget.\n",
        "\n",
        "3. Display column names, column data types and column data with the click of checkbox.\n",
        "\n",
        "4. Show dataset summary with the click of a checkbox."
      ]
    },
    {
      "cell_type": "code",
      "metadata": {
        "id": "9Gf84_jgi6Eh"
      },
      "source": [
        "# Show complete dataset and summary in 'diabetes_home.py'\n",
        "# Import the streamlit modules.\n",
        "import streamlit as st\n",
        "\n",
        "# Define a function 'app()' which accepts 'census_df' as an input.\n",
        "def app(diabetes_df):\n",
        "  # Set the title to the home page contents.\n",
        "  st.title('Early Diabetes Predictoin Web App')\n",
        "  # Provide a brief description for the web app.\n",
        "  st.markdown(\"<p style='color:red;font-size:25px'>Diabetes is a chronic (long-lasting) health condition that affects how your body turns food into energy. There isn’t a cure yet for diabetes, but losing weight, eating healthy food, and being active can really help in reducing the impact of diabetes. This Web app will help you to predict whether a person has diabetes or is prone to get diabetes in future by analysing the values of several features using the Decision Tree Classifier. </p>\", unsafe_allow_html = True)\n",
        "  # Add the 'beta_expander' to view full dataset\n",
        "  st.header(\"View Data\")\n",
        "  with st.beta_expander(\"View Data\"):\n",
        "      st.table(diabetes_df)\n",
        "\n",
        "  st.subheader(\"Columns Description:\")\n",
        "  beta_col1, beta_col2, beta_col3 = st.beta_columns(3)\n",
        "  # Add a checkbox in the first column. Display the column names of 'diabetes_df' on the click of checkbox.\n",
        "  with beta_col1:\n",
        "    if st.checkbox(\"Show all column names\"):\n",
        "      st.table(list(diabetes_df.columns))\n",
        "\n",
        "  # Add a checkbox in the second column. Display the column data-types of 'diabetes_df' on the click of checkbox.\n",
        "  with beta_col2:\n",
        "    if st.checkbox(\"View column data-type\"):\n",
        "        st.table(diabetes_df.dtypes)\n",
        "\n",
        "  # Add a checkbox in the third column followed by a selectbox which accepts the column name whose data needs to be displayed.\n",
        "  with beta_col3:\n",
        "    if st.checkbox(\"View column data\"):\n",
        "        column_data = st.selectbox('Select column', tuple(diabetes_df.columns))\n",
        "        st.write(diabetes_df[column_data])"
      ],
      "execution_count": null,
      "outputs": []
    },
    {
      "cell_type": "markdown",
      "metadata": {
        "id": "0hZtDCt3j3DB"
      },
      "source": [
        "**Expected Output:**\n",
        "\n",
        "<img src=\"https://i.imgur.com/dNtxSgO.png\"/>"
      ]
    },
    {
      "cell_type": "markdown",
      "metadata": {
        "id": "EWyJqc59rHQB"
      },
      "source": [
        "After this activity, the home page of the web app will allow the user to view the complete dataset as well as view summary of the dataset."
      ]
    },
    {
      "cell_type": "markdown",
      "metadata": {
        "id": "zTF6ZJ1Hk-qQ"
      },
      "source": [
        "---"
      ]
    },
    {
      "cell_type": "markdown",
      "metadata": {
        "id": "w0vqpv5RqaAA"
      },
      "source": [
        "#### Activity 4: Prediction Page Configuration\n",
        "\n",
        "Open the blank `diabetes_predict.py` file that you had created in  **Activity 2: Page Navigator**. Create two functions `d_tree_pred()` and `grid_tree_pred()` to design the Decision Tree Classifier.\n",
        "\n",
        "The `d_tree_pred()` function takes the following feature variables as input to predict the diabetes:\n",
        "- `diabetes_df`\n",
        "- `glucose`\n",
        "- `bp`\n",
        "- `insulin`\n",
        "- `bmi`\n",
        "- `pedigree`\n",
        "- `age`\n",
        "\n",
        "Inside this function,\n",
        "\n",
        "1. Split the original DataFrame into train and test sets.\n",
        "\n",
        "2. Create an object (say `dtree_clf`) of the `DecisionTreeClassifier()` class.\n",
        "\n",
        "3. Inside the `DecisionTreeClassifier()` constructor, pass the following two parameters:\n",
        "\n",
        " - `criterion = entropy`\n",
        "\n",
        " - `max_depth = 3`\n",
        "\n",
        "4. Call the `fit()` function on the above constructor with train features and target variables as inputs.\n",
        "\n",
        "5. Get the predicted target values by passing the above features inside the `predict()` function on `dtree_clf` and store the result in a variable `prediction`. Use indexing to obtain the predicted value i.e. `prediction = prediction[0]`.\n",
        "\n",
        "6. Get the accuracy score on the train set by calling the `accuracy_score()` function on the `metrics` object and store the result in a variable `score`.\n",
        "\n",
        "7. Return the `prediction` and `score`."
      ]
    },
    {
      "cell_type": "code",
      "metadata": {
        "id": "awMaOKzS3pEq"
      },
      "source": [
        "# Import the necessary modules design the Decision Tree classifier\n",
        "import numpy as np\n",
        "import pandas as pd\n",
        "import streamlit as st\n",
        "from sklearn.metrics import r2_score, mean_absolute_error\n",
        "from sklearn.model_selection import train_test_split\n",
        "from sklearn.tree import DecisionTreeClassifier\n",
        "from sklearn.model_selection import GridSearchCV\n",
        "from sklearn import tree\n",
        "from sklearn import metrics"
      ],
      "execution_count": null,
      "outputs": []
    },
    {
      "cell_type": "code",
      "metadata": {
        "id": "HlnaZA2Vqnpq"
      },
      "source": [
        "# Create the 'd_tree_pred' function to predict the diabetes using the Decision Tree classifier\n",
        "@st.cache()\n",
        "def d_tree_pred(diabetes_df, glucose, bp, insulin, bmi, pedigree, age):\n",
        "    # Split the train and test dataset.\n",
        "    feature_columns = list(diabetes_df.columns)\n",
        "\n",
        "    # Remove the 'Pregnancies', Skin_Thickness' columns and the 'target' column from the feature columns\n",
        "    feature_columns.remove('Skin_Thickness')\n",
        "    feature_columns.remove('Pregnancies')\n",
        "    feature_columns.remove('Outcome')\n",
        "\n",
        "    X = diabetes_df[feature_columns]\n",
        "    y = diabetes_df['Outcome']\n",
        "    X_train, X_test, y_train, y_test = train_test_split(X, y, test_size = 0.3, random_state = 1)\n",
        "\n",
        "    dtree_clf = DecisionTreeClassifier(criterion=\"entropy\", max_depth=3)\n",
        "    dtree_clf.fit(X_train, y_train)\n",
        "    y_train_pred = dtree_clf.predict(X_train)\n",
        "    y_test_pred = dtree_clf.predict(X_test)\n",
        "    # Predict diabetes using the 'predict()' function.\n",
        "    prediction = dtree_clf.predict([[glucose, bp, insulin, bmi, pedigree, age]])\n",
        "    prediction = prediction[0]\n",
        "\n",
        "    score = round(metrics.accuracy_score(y_train, y_train_pred) * 100, 3)\n",
        "\n",
        "    return prediction, score"
      ],
      "execution_count": null,
      "outputs": []
    },
    {
      "cell_type": "markdown",
      "metadata": {
        "id": "2SG93SQzcGZY"
      },
      "source": [
        "---"
      ]
    },
    {
      "cell_type": "markdown",
      "metadata": {
        "id": "WO5uQabi4ALj"
      },
      "source": [
        "#### Activity 5: `GridSearchCV` Decision Tree Classifier\n",
        "\n",
        "In this activity you need to run the `GridSearchCV` for classifier optimisation.\n",
        "\n",
        "Create the `grid_tree_pred()` function below the `d_tree_pred` function in `diabetes_predict.py` file. This function takes the following feature variables as input:\n",
        "- `diabetes_df`\n",
        "- `glucose`\n",
        "- `bp`\n",
        "- `insulin`\n",
        "- `bmi`\n",
        "- `pedigree`\n",
        "- `age`\n",
        "\n",
        "Inside this function:\n",
        "\n",
        " - First define a `param_grid` to select which parameters from `DecisionTreeClassifier` class you want to run the optimisation. Let us set:\n",
        "  - `criterion`: `['gini','entropy']`\n",
        "  - `max_depth`: `4` to `20`.\n",
        "  - `random_state`: `[42]`\n",
        "\n",
        "- Contruct a decision tree grid `grid_tree` using `GridSearchCV` function with following inputs:\n",
        "\n",
        " - `DecisionTreeClassifier`\n",
        " - `param_grid`\n",
        " - `scoring`\n",
        "\n",
        "- Call the `fit()` function on the `grid_tree` using `X_train` and `y_train` as input.\n",
        "\n",
        "- Create an object `best_tree` and assign it the best decision tree model using `best_estimator_` atribute from `GridSearchCV`.\n",
        "\n",
        "- Get the predicted target values by passing the features inside the `predict()` function on `best_tree` object and store the result in a variable `prediction`.\n",
        "\n",
        "- Print the score achieved by the best classifier using `grid_tree.best_score_` and display the score in percentge.\n",
        "\n",
        "- Return the `prediction` and `score`."
      ]
    },
    {
      "cell_type": "code",
      "metadata": {
        "id": "zzVzPS_W3_iL"
      },
      "source": [
        "def grid_tree_pred(diabetes_df, glucose, bp, insulin, bmi, pedigree, age):\n",
        "    feature_columns = list(diabetes_df.columns)\n",
        "    # Remove the 'Pregnancies', 'Skin_Thickness' columns and the 'target' column from the feature columns\n",
        "    feature_columns.remove('Pregnancies')\n",
        "    feature_columns.remove('Skin_Thickness')\n",
        "    feature_columns.remove('Outcome')\n",
        "    X = diabetes_df[feature_columns]\n",
        "    y = diabetes_df['Outcome']\n",
        "    # Split the train and test dataset.\n",
        "    X_train, X_test, y_train, y_test = train_test_split(X, y, test_size = 0.3, random_state = 1)\n",
        "\n",
        "    param_grid = {'criterion':['gini','entropy'], 'max_depth': np.arange(4,21), 'random_state': [42]}\n",
        "\n",
        "    # Create a grid\n",
        "    grid_tree = GridSearchCV(DecisionTreeClassifier(), param_grid, scoring = 'roc_auc', n_jobs = -1)\n",
        "\n",
        "    # Training\n",
        "    grid_tree.fit(X_train, y_train)\n",
        "    best_tree = grid_tree.best_estimator_\n",
        "\n",
        "    # Predict diabetes using the 'predict()' function.\n",
        "    prediction = best_tree.predict([[glucose, bp, insulin, bmi, pedigree, age]])\n",
        "    prediction = prediction[0]\n",
        "\n",
        "    score = round(grid_tree.best_score_ * 100, 3)\n",
        "\n",
        "    return prediction, score"
      ],
      "execution_count": null,
      "outputs": []
    },
    {
      "cell_type": "markdown",
      "metadata": {
        "id": "xGn3tYDnqoJu"
      },
      "source": [
        "---"
      ]
    },
    {
      "cell_type": "markdown",
      "metadata": {
        "id": "rptF6bH08iZe"
      },
      "source": [
        "#### Activity 6: The Prediction Page Configuration\n",
        "\n",
        "Perform the following tasks in `diabetes_predict.py` page below `grid_tree_pred()` function:\n",
        "\n",
        "1. Create an user-defined function, say `app()` with `diabetes_df` as its input to perform their respective tasks.\n",
        "\n",
        "2. Create six streamlit slider widgets for selecting the values of features (`Glucose`, `Blood_Pressure`, `Insulin`, `BMI`, `Pedigree_Function` and `Age`)  with their minimum and maximum values. Store the widgets in their respective variables.\n",
        "\n",
        "3. Create a drop down menu to select the classifier.\n",
        "  - Decision Tree Classifier\n",
        "  - GridSearchCV Best Tree Classifier\n",
        "\n",
        "4. If Decision Tree Classifier is selected, pass the values selected in the slider inside the `d_tree_pred` function to predict the diabetes on a click of a button as follows:  \n",
        "\n",
        "  `prediction, score = d_tree_pred(diabetes_df, glucose, bp, insulin, bmi, pedigree, age)`\n",
        "\n",
        "5. If `prediction == 1`, display `The person either has diabetes or prone to get diabetes`, else display `The person is free from diabetes`.\n",
        "\n",
        "6. Also display the accuracy score of the model that is stored in the `score` variable.\n",
        "\n",
        "Similarly, If GridSearchCV Best Tree Classifier is selected, pass the values selected using the slider inside the `grid_tree_pred()` function to predict the diabetes on a click of a button."
      ]
    },
    {
      "cell_type": "code",
      "metadata": {
        "id": "UqtVy3yaBsK0"
      },
      "source": [
        "# Create the user defined 'app()' function.\n",
        "def app(diabetes_df):\n",
        "    st.markdown(\"<p style='color:red;font-size:25px'>This app uses <b>Decision Tree Classifier</b> for the Early Prediction of Diabetes.\", unsafe_allow_html = True)\n",
        "    st.subheader(\"Select Values:\")\n",
        "\n",
        "    # Create six sliders with the respective minimum and maximum values of features.\n",
        "    # store them in variables 'glucose', 'bp', 'insulin, 'bmi', 'pedigree' and 'age'\n",
        "    # Write your code here:\n",
        "    glucose = st.slider(\"Glucose\", float(diabetes_df['Glucose'].min()), float(diabetes_df['Glucose'].max()))\n",
        "    bp = st.slider(\"Blood Pressure\", float(diabetes_df['Blood_Pressure'].min()), float(diabetes_df['Blood_Pressure'].max()))\n",
        "    insulin = st.slider(\"Insulin\", float(diabetes_df['Insulin'].min()), float(diabetes_df['Insulin'].max()))\n",
        "    bmi = st.slider(\"BMI\", float(diabetes_df['BMI'].min()), float(diabetes_df['BMI'].max()))\n",
        "    pedigree = st.slider(\"Pedigree Function\", float(diabetes_df['Pedigree_Function'].min()), float(diabetes_df['Pedigree_Function'].max()))\n",
        "    age = st.slider(\"Age\", float(diabetes_df['Age'].min()), float(diabetes_df['Age'].max()))\n",
        "    st.subheader(\"Model Selection\")\n",
        "\n",
        "    # Add a single select drop down menu with label 'Select the Classifier'\n",
        "    predictor = st.selectbox(\"Select the Decision Tree Classifier\",('Decision Tree Classifier', 'GridSearchCV Best Tree Classifier'))\n",
        "\n",
        "    if predictor == 'Decision Tree Classifier':\n",
        "        if st.button(\"Predict\"):\n",
        "            prediction, score = d_tree_pred(diabetes_df, glucose, bp, insulin, bmi, pedigree, age)\n",
        "            st.subheader(\"Decision Tree Prediction results:\")\n",
        "            if prediction == 1:\n",
        "                st.info(\"The person either has diabetes or prone to get diabetes\")\n",
        "            else:\n",
        "                st.info(\"The person is free from diabetes\")\n",
        "            st.write(\"The accuracy score of this model is\", score, \"%\")\n",
        "\n",
        "\n",
        "    elif predictor == 'GridSearchCV Best Tree Classifier':\n",
        "        if st.button(\"Predict\"):\n",
        "            prediction, score = grid_tree_pred(diabetes_df, glucose, bp, insulin, bmi, pedigree, age)\n",
        "            st.subheader(\"Optimised Decision Tree Prediction results:\")\n",
        "            if prediction == 1:\n",
        "                st.info(\"The person either has diabetes or prone to get diabetes\")\n",
        "            else:\n",
        "                st.info(\"The person is free from diabetes\")\n",
        "            st.write(\"The best score of this model is\", score, \"%\")"
      ],
      "execution_count": null,
      "outputs": []
    },
    {
      "cell_type": "markdown",
      "metadata": {
        "id": "edvGekAVEGO6"
      },
      "source": [
        "**Expected Output:**\n",
        "\n",
        "<img src=\"https://s3-whjr-v2-prod-bucket.whjr.online/4ea07d40-12bd-4edc-a68d-dfafee57e49a.gif\"/>\n"
      ]
    },
    {
      "cell_type": "markdown",
      "metadata": {
        "id": "sYguuZR0Bsj3"
      },
      "source": [
        "---"
      ]
    },
    {
      "cell_type": "markdown",
      "metadata": {
        "id": "oOfumZ-6pv98"
      },
      "source": [
        "#### Activity 7: Visualise the Decision Tree Classifier\n",
        "\n",
        "Open the blank `diabetes_plots.py` file that you had created in  **Activity 3:Page Navigator**. Create an `app()` function in this file with `diabetes_df` as its input and perform the following tasks within this `app()` function:\n",
        "\n",
        "1. Add the code to display the correlation heatmap on a click of a checkbox.\n",
        "\n",
        "2. Add a `selectbox` widget with label `Select the Classifier` to select the Classifier model (Decision Tree Classifier and GridSearchCV Best Tree Classifier).\n",
        "\n",
        "3. If Decision Tree classifier is selected, fit the decision tree model and plot the confusion matrix and decision tree for the Decision Tree classifier.\n",
        "\n",
        "4. If GridSearchCV Best Tree Classifier is selected, fit the GridSearchCV best tree model and plot the confusion matrix and decision tree for the classifier. You can create the decision tree in the streamlit web app using the `graphviz_chart` function of the streamlit."
      ]
    },
    {
      "cell_type": "code",
      "metadata": {
        "id": "-AAHhEt3DbNa"
      },
      "source": [
        "# Code for 'diabetes_plot.py' file.\n",
        "# Import necessary modules.\n",
        "import numpy as np\n",
        "import pandas as pd\n",
        "import matplotlib.pyplot as plt\n",
        "import seaborn as sns\n",
        "import warnings\n",
        "import streamlit as st\n",
        "from sklearn.model_selection import train_test_split\n",
        "from sklearn.tree import DecisionTreeClassifier\n",
        "from sklearn.model_selection import GridSearchCV\n",
        "from sklearn import tree\n",
        "from sklearn.metrics import confusion_matrix, plot_confusion_matrix, classification_report\n",
        "import graphviz as graphviz\n",
        "from sklearn.tree import export_graphviz\n",
        "from io import StringIO\n",
        "from IPython.display import Image\n",
        "\n",
        "\n",
        "# Define a function 'app()' which accepts 'census_df' as an input.\n",
        "def app(diabetes_df):\n",
        "    warnings.filterwarnings('ignore')\n",
        "    st.set_option('deprecation.showPyplotGlobalUse', False)\n",
        "    st.title(\"Visualise the Diabetes Prediction Web app \")\n",
        "\n",
        "    if st.checkbox(\"Show the correlation heatmap\"):\n",
        "        st.subheader(\"Correlation Heatmap\")\n",
        "        plt.figure(figsize = (10, 6))\n",
        "        ax = sns.heatmap(diabetes_df.iloc[:, 1:].corr(), annot = True) # Creating an object of seaborn axis and storing it in 'ax' variable\n",
        "        bottom, top = ax.get_ylim() # Getting the top and bottom margin limits.\n",
        "        ax.set_ylim(bottom + 0.5, top - 0.5) # Increasing the bottom and decreasing the top margins respectively.\n",
        "        st.pyplot()\n",
        "\n",
        "    st.subheader(\"Predictor Selection\")\n",
        "\n",
        "\n",
        "    # Add a single select with label 'Select the Classifier'\n",
        "    plot_select = st.selectbox(\"Select the Classifier to Visualise the Diabetes Prediction:\", ('Decision Tree Classifier', 'GridSearchCV Best Tree Classifier'))\n",
        "\n",
        "    if plot_select == 'Decision Tree Classifier':\n",
        "        # Split the train and test dataset.\n",
        "        feature_columns = list(diabetes_df.columns)\n",
        "\n",
        "        # Remove the 'Pregnancies', 'Skin_Thickness' columns and the 'target' column from the feature columns\n",
        "        feature_columns.remove('Pregnancies')\n",
        "        feature_columns.remove('Skin_Thickness')\n",
        "        feature_columns.remove('Outcome')\n",
        "\n",
        "        X = diabetes_df[feature_columns]\n",
        "        y = diabetes_df['Outcome']\n",
        "        X_train, X_test, y_train, y_test = train_test_split(X, y, test_size = 0.3, random_state = 1)\n",
        "\n",
        "        dtree_clf = DecisionTreeClassifier(criterion=\"entropy\", max_depth=3)\n",
        "        dtree_clf.fit(X_train, y_train)\n",
        "        y_train_pred = dtree_clf.predict(X_train)\n",
        "        y_test_pred = dtree_clf.predict(X_test)\n",
        "\n",
        "\n",
        "        if st.checkbox(\"Plot confusion matrix\"):\n",
        "            plt.figure(figsize = (10, 6))\n",
        "            plot_confusion_matrix(dtree_clf, X_train, y_train, values_format = 'd')\n",
        "            st.pyplot()\n",
        "\n",
        "        if st.checkbox(\"Plot Decision Tree\"):\n",
        "            # Export decision tree in dot format and store in 'dot_data' variable.\n",
        "            dot_data = tree.export_graphviz(decision_tree = dtree_clf, max_depth = 3, out_file = None, filled = True, rounded = True,\n",
        "                feature_names = feature_columns, class_names = ['0', '1'])\n",
        "            # Plot the decision tree using the 'graphviz_chart' function of the 'streamlit' module.\n",
        "            st.graphviz_chart(dot_data)\n",
        "\n",
        "\n",
        "    if plot_select == 'GridSearchCV Best Tree Classifier':\n",
        "        # Split the train and test dataset.\n",
        "        feature_columns = list(diabetes_df.columns)\n",
        "\n",
        "        # Remove the 'Pregnancies', 'Skin_Thickness' columns and the 'target' column from the feature columns\n",
        "        feature_columns.remove('Pregnancies')\n",
        "        feature_columns.remove('Skin_Thickness')\n",
        "        feature_columns.remove('Outcome')\n",
        "\n",
        "        X = diabetes_df[feature_columns]\n",
        "        y = diabetes_df['Outcome']\n",
        "        X_train, X_test, y_train, y_test = train_test_split(X, y, test_size = 0.3, random_state = 1)\n",
        "\n",
        "        param_grid = {'criterion':['gini','entropy'], 'max_depth': np.arange(4,21), 'random_state': [42]}\n",
        "\n",
        "        # Create a grid\n",
        "        grid_tree = GridSearchCV(DecisionTreeClassifier(), param_grid, scoring = 'roc_auc', n_jobs = -1)\n",
        "\n",
        "        # Training\n",
        "        grid_tree.fit(X_train, y_train)\n",
        "        best_tree = grid_tree.best_estimator_\n",
        "\n",
        "        grid_tree.fit(X_train, y_train)\n",
        "        y_train_pred = grid_tree.predict(X_train)\n",
        "        y_test_pred = grid_tree.predict(X_test)\n",
        "\n",
        "\n",
        "        if st.checkbox(\"Plot confusion matrix\"):\n",
        "            plt.figure(figsize = (5, 3))\n",
        "            plot_confusion_matrix(grid_tree, X_train, y_train, values_format = 'd')\n",
        "            st.pyplot()\n",
        "\n",
        "        if st.checkbox(\"Plot Decision Tree\"):\n",
        "            # Create empty dot file.\n",
        "            #dot_data = StringIO()\n",
        "            # Export decision tree in dot format.\n",
        "            dot_data = tree.export_graphviz(decision_tree = best_tree, max_depth = 3, out_file = None, filled = True, rounded = True,\n",
        "                feature_names = feature_columns, class_names = ['0', '1'])\n",
        "            st.graphviz_chart(dot_data)\n",
        "\n"
      ],
      "execution_count": null,
      "outputs": []
    },
    {
      "cell_type": "markdown",
      "metadata": {
        "id": "tj17oouc0xJi"
      },
      "source": [
        "\n",
        "**Expected Output:**\n",
        "\n",
        "<img src=\"https://s3-whjr-v2-prod-bucket.whjr.online/349f5dbb-f7c8-4836-89d8-bf9234f8738a.gif\"/>\n",
        "\n",
        "After this activity, the user must be able to predict diabetes and visualise the classifier models using the decision tree plots and confusion matrix.\n"
      ]
    },
    {
      "cell_type": "markdown",
      "metadata": {
        "id": "eu63xe_W001D"
      },
      "source": [
        "---"
      ]
    },
    {
      "cell_type": "markdown",
      "metadata": {
        "id": "2o9tgd4z_UEI"
      },
      "source": [
        "### Submitting the Project\n",
        "\n",
        "Follow the steps described below to submit the project.\n",
        "\n",
        "1. After finishing the project, click on the **Share** button on the top right corner of the notebook. A new dialog box will appear.\n",
        "\n",
        "  <img src='https://student-datasets-bucket.s3.ap-south-1.amazonaws.com/images/project-share-images/2_share_button.png' width=500>\n",
        "\n",
        "2. In the dialog box, click on the **Copy link** button.\n",
        "\n",
        "   <img src='https://student-datasets-bucket.s3.ap-south-1.amazonaws.com/images/project-share-images/3_copy_link.png' width=500>\n",
        "\n",
        "\n",
        "3. The link of the duplicate copy (named as **YYYY-MM-DD_StudentName_CapstoneProject19**) of the notebook will get copied\n",
        "\n",
        "   <img src='https://student-datasets-bucket.s3.ap-south-1.amazonaws.com/images/project-share-images/4_copy_link_confirmation.png' width=500>\n",
        "\n",
        "4. Go to your dashboard and click on the **My Projects** option.\n",
        "\n",
        "   <img src='https://student-datasets-bucket.s3.ap-south-1.amazonaws.com/images/project-share-images/5_student_dashboard.png' width=800>\n",
        "\n",
        "   <img src='https://student-datasets-bucket.s3.ap-south-1.amazonaws.com/images/project-share-images/6_my_projects.png' width=800>\n",
        "\n",
        "5. Click on the **View Project** button for the project you want to submit.\n",
        "\n",
        "   <img src='https://student-datasets-bucket.s3.ap-south-1.amazonaws.com/images/project-share-images/7_view_project.png' width=800>\n",
        "\n",
        "6. Click on the **Submit Project Here** button.\n",
        "\n",
        "   <img src='https://student-datasets-bucket.s3.ap-south-1.amazonaws.com/images/project-share-images/8_submit_project.png' width=800>\n",
        "\n",
        "7. Paste the link to the project file named as **YYYY-MM-DD_StudentName_CapstoneProject19** in the URL box and then click on the **Submit** button.\n",
        "\n",
        "   <img src='https://student-datasets-bucket.s3.ap-south-1.amazonaws.com/images/project-share-images/9_enter_project_url.png' width=800>\n"
      ]
    },
    {
      "cell_type": "markdown",
      "metadata": {
        "id": "PD9diLhQ_Tr4"
      },
      "source": [
        "---"
      ]
    }
  ]
}
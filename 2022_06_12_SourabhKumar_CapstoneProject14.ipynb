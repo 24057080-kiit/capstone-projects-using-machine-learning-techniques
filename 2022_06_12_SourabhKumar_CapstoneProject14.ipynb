{
  "nbformat": 4,
  "nbformat_minor": 0,
  "metadata": {
    "colab": {
      "provenance": [],
      "include_colab_link": true
    },
    "kernelspec": {
      "name": "python3",
      "display_name": "Python 3"
    }
  },
  "cells": [
    {
      "cell_type": "markdown",
      "metadata": {
        "id": "view-in-github",
        "colab_type": "text"
      },
      "source": [
        "<a href=\"https://colab.research.google.com/github/24057080-kiit/capstone-projects-using-machine-learning-techniques/blob/main/2022_06_12_SourabhKumar_CapstoneProject14.ipynb\" target=\"_parent\"><img src=\"https://colab.research.google.com/assets/colab-badge.svg\" alt=\"Open In Colab\"/></a>"
      ]
    },
    {
      "cell_type": "markdown",
      "metadata": {
        "id": "OocTROo-irrt"
      },
      "source": [
        "# Capstone Project 14: Life Expectancy Analysis\n"
      ]
    },
    {
      "cell_type": "markdown",
      "metadata": {
        "id": "wOmN35jdQO68"
      },
      "source": [
        "### Context\n",
        "\n",
        "The term **Life Expectancy** refers to the number of years a person can expect to live. It is based on an estimate of the average age of a population when they die. Life expectancy is one of the key metrics used for assessing the overall health of a population.\n",
        "\n",
        " The Global Health Observatory (GHO) data repository under the World Health Organization (WHO) keeps track of the health status as well as many other related factors for all countries. The data-sets are made available to the public to perform health data analysis. It has been observed that in the past 15 years, there is a huge development in the health sector resulting in the improvement of human mortality rates. The increases are nearly universal, from the richest to the poorest countries. Let's dive deeper into the life expectancy dataset and find out how different factors influence your life expectancy.\n",
        "\n",
        "\n"
      ]
    },
    {
      "cell_type": "markdown",
      "metadata": {
        "id": "DiBKzIYpWCzp"
      },
      "source": [
        "---"
      ]
    },
    {
      "cell_type": "markdown",
      "metadata": {
        "id": "zTSyVg4PqLI3"
      },
      "source": [
        "### Problem Statement\n",
        "\n",
        "As the head of a leading life insurance company, your job is to formulate  global health insurance coverage plans and devise different life insurance solutions for different countries. For this, you need to obtain insightful trends and patterns in people's dying age across different countries. Also, you need to determine the factors that affect the average life expectancy of the people around the world to determine the premium rates for insurance policies."
      ]
    },
    {
      "cell_type": "markdown",
      "metadata": {
        "id": "5AyRRYmTR3N7"
      },
      "source": [
        "---"
      ]
    },
    {
      "cell_type": "markdown",
      "metadata": {
        "id": "2ewwrFlXlF0h"
      },
      "source": [
        "#### Getting Started\n",
        "\n",
        "Follow the steps described below to solve the project:\n",
        "\n",
        "1. Click on the link provided below to open the Colab file for this project.\n",
        "   \n",
        "   https://colab.research.google.com/drive/1QNJqRN0kFplv-U8wqdy9AFzaHdFlN1xN?usp=sharing\n",
        "\n",
        "2. Create the duplicate copy of the Colab file. Here are the steps to create the duplicate copy:\n",
        "\n",
        "    - Click on the **File** menu. A new drop-down list will appear.\n",
        "\n",
        "      <img src='https://student-datasets-bucket.s3.ap-south-1.amazonaws.com/images/project-share-images/0_file_menu.png' width=500>\n",
        "\n",
        "    - Click on the **Save a copy in Drive** option. A duplicate copy will get created. It will open up in the new tab on your web browser.\n",
        "\n",
        "      <img src='https://student-datasets-bucket.s3.ap-south-1.amazonaws.com/images/project-share-images/1_create_colab_duplicate_copy.png' width=500>\n",
        "\n",
        "     - After creating the duplicate copy of the notebook, please rename it in the **YYYY-MM-DD_StudentName_CapstoneProject14** format.\n",
        "\n",
        "3. Now, write your code in the prescribed code cells."
      ]
    },
    {
      "cell_type": "markdown",
      "metadata": {
        "id": "RBS03O7jla9Q"
      },
      "source": [
        "---"
      ]
    },
    {
      "cell_type": "markdown",
      "metadata": {
        "id": "OvuklseNQkid"
      },
      "source": [
        "### Data Description\n",
        "\n",
        "This dataset contains life expectancy data and health factors for 193 countries from the year 2000-2015 which was collected from the WHO data repository website and its corresponding economic data was collected from the United Nation website. It consists of 22 columns and 2938 rows.\n",
        "\n",
        "|Field|Description|\n",
        "|---:|:---|\n",
        "|Country|Country|\n",
        "|Year|Year|\n",
        "|Status|Developed or Developing|\n",
        "|Life expectancy|Life Expectancy in years|\n",
        "|Adult Mortality|Adult Mortality Rates of both sexes (probability of dying between 15 and 60 years per 1000 population)|\n",
        "|infant deaths|Number of Infant Deaths per 1000 population|\n",
        "|Alcohol|Alcohol, recorded per capita (15+) consumption|\n",
        "|percentage expenditure|Expenditure on health as a percent of GDP per capita (%)|\n",
        "|Hepatitis B|Hepatitis B (HepB) immunization coverage among 1-year-olds (%)|\n",
        "|Measles|Measles - number of reported cases per 1000 population|\n",
        "|BMI|Average Body Mass Index of the entire population|\n",
        "|under-five deaths|Number of under-five deaths per 1000 population|\n",
        "|Polio|Polio (Pol3) immunization coverage among 1-year-olds (%)|\n",
        "|Total expenditure|General government expenditure on health (%)|\n",
        "|Diphtheria|Diphtheria tetanus toxoid and pertussis (DTP3) immunization coverage among 1-year-olds (%)|\n",
        "|HIV/AIDS|Deaths per 1000 live births HIV/AIDS (0-4 years)|\n",
        "|GDP|Gross Domestic Product per capita (in USD)|\n",
        "|Population|Population of the country|\n",
        "|thinness 1-19 years|Prevalence of thinness among children and adolescents for Age 10 to 19 (%)|\n",
        "|thinness 5-9 years|Prevalence of thinness among children for Age 5 to 9 (%)|\n",
        "|Income composition of resources|Productive use of resources|\n",
        "|Schooling|Number of years of Schooling(years)|\n",
        "\n",
        "Here's the dataset link:\n",
        "\n",
        "https://student-datasets-bucket.s3.ap-south-1.amazonaws.com/whitehat-ds-datasets/life-expectancy/life-expectancy.csv"
      ]
    },
    {
      "cell_type": "markdown",
      "metadata": {
        "id": "wmta0mCwWB0e"
      },
      "source": [
        "---"
      ]
    },
    {
      "cell_type": "markdown",
      "metadata": {
        "id": "MD9GPoDvD9Sh"
      },
      "source": [
        "### Things To Do\n",
        "\n",
        "- Rename the columns since most of them contain leading and trailing spaces. Some columns contain a few missing values. Treat them accordingly.\n",
        "\n",
        "- Find the answer to the following questions:\n",
        "\n",
        "  1. Is there a rise in the average life expectancy around the world in a period of 15 years, i.e., from 2000 - 2015?\n",
        "\n",
        "  2. Do developing countries have a lower life expectancy as compared to the developed countries?\n",
        "  \n",
        "  3. Calculate how many countries had extremely low life expectancy, i.e., less than 60 years. List those countries.\n",
        "\n",
        "  4. What are the most critical factors affecting life expectancy?\n"
      ]
    },
    {
      "cell_type": "markdown",
      "metadata": {
        "id": "1_0f8iFLVzir"
      },
      "source": [
        "---"
      ]
    },
    {
      "cell_type": "markdown",
      "metadata": {
        "id": "bQT8lQviaQwX"
      },
      "source": [
        "#### 1. Import Modules & Load Dataset"
      ]
    },
    {
      "cell_type": "code",
      "metadata": {
        "id": "Y62VnVV3SjwN",
        "colab": {
          "base_uri": "https://localhost:8080/"
        },
        "outputId": "fa724da0-e982-4384-d2c3-776ad95402bf"
      },
      "source": [
        "# Import the required modules and load the dataset.\n",
        "import numpy as np\n",
        "import pandas as pd\n",
        "import matplotlib.pyplot as plt\n",
        "import seaborn as sns\n",
        "import scipy\n",
        "\n",
        "df = pd.read_csv('https://student-datasets-bucket.s3.ap-south-1.amazonaws.com/whitehat-ds-datasets/life-expectancy/life-expectancy.csv')\n",
        "print(df.head())"
      ],
      "execution_count": null,
      "outputs": [
        {
          "output_type": "stream",
          "name": "stdout",
          "text": [
            "       Country  Year      Status  Life expectancy   Adult Mortality  \\\n",
            "0  Afghanistan  2015  Developing              65.0            263.0   \n",
            "1  Afghanistan  2014  Developing              59.9            271.0   \n",
            "2  Afghanistan  2013  Developing              59.9            268.0   \n",
            "3  Afghanistan  2012  Developing              59.5            272.0   \n",
            "4  Afghanistan  2011  Developing              59.2            275.0   \n",
            "\n",
            "   infant deaths  Alcohol  percentage expenditure  Hepatitis B  Measles   ...  \\\n",
            "0             62     0.01               71.279624         65.0      1154  ...   \n",
            "1             64     0.01               73.523582         62.0       492  ...   \n",
            "2             66     0.01               73.219243         64.0       430  ...   \n",
            "3             69     0.01               78.184215         67.0      2787  ...   \n",
            "4             71     0.01                7.097109         68.0      3013  ...   \n",
            "\n",
            "   Polio  Total expenditure  Diphtheria    HIV/AIDS         GDP  Population  \\\n",
            "0    6.0               8.16         65.0        0.1  584.259210  33736494.0   \n",
            "1   58.0               8.18         62.0        0.1  612.696514    327582.0   \n",
            "2   62.0               8.13         64.0        0.1  631.744976  31731688.0   \n",
            "3   67.0               8.52         67.0        0.1  669.959000   3696958.0   \n",
            "4   68.0               7.87         68.0        0.1   63.537231   2978599.0   \n",
            "\n",
            "    thinness  1-19 years   thinness 5-9 years  \\\n",
            "0                   17.2                 17.3   \n",
            "1                   17.5                 17.5   \n",
            "2                   17.7                 17.7   \n",
            "3                   17.9                 18.0   \n",
            "4                   18.2                 18.2   \n",
            "\n",
            "   Income composition of resources  Schooling  \n",
            "0                            0.479       10.1  \n",
            "1                            0.476       10.0  \n",
            "2                            0.470        9.9  \n",
            "3                            0.463        9.8  \n",
            "4                            0.454        9.5  \n",
            "\n",
            "[5 rows x 22 columns]\n"
          ]
        }
      ]
    },
    {
      "cell_type": "code",
      "metadata": {
        "id": "2eDUrqpvTIZv",
        "colab": {
          "base_uri": "https://localhost:8080/"
        },
        "outputId": "f66b78f8-ab15-433f-e570-223eed694d88"
      },
      "source": [
        "# Get the information on DataFrame.\n",
        "df.info()"
      ],
      "execution_count": null,
      "outputs": [
        {
          "output_type": "stream",
          "name": "stdout",
          "text": [
            "<class 'pandas.core.frame.DataFrame'>\n",
            "RangeIndex: 2938 entries, 0 to 2937\n",
            "Data columns (total 22 columns):\n",
            " #   Column                           Non-Null Count  Dtype  \n",
            "---  ------                           --------------  -----  \n",
            " 0   Country                          2938 non-null   object \n",
            " 1   Year                             2938 non-null   int64  \n",
            " 2   Status                           2938 non-null   object \n",
            " 3   Life expectancy                  2928 non-null   float64\n",
            " 4   Adult Mortality                  2928 non-null   float64\n",
            " 5   infant deaths                    2938 non-null   int64  \n",
            " 6   Alcohol                          2744 non-null   float64\n",
            " 7   percentage expenditure           2938 non-null   float64\n",
            " 8   Hepatitis B                      2385 non-null   float64\n",
            " 9   Measles                          2938 non-null   int64  \n",
            " 10   BMI                             2904 non-null   float64\n",
            " 11  under-five deaths                2938 non-null   int64  \n",
            " 12  Polio                            2919 non-null   float64\n",
            " 13  Total expenditure                2712 non-null   float64\n",
            " 14  Diphtheria                       2919 non-null   float64\n",
            " 15   HIV/AIDS                        2938 non-null   float64\n",
            " 16  GDP                              2490 non-null   float64\n",
            " 17  Population                       2286 non-null   float64\n",
            " 18   thinness  1-19 years            2904 non-null   float64\n",
            " 19   thinness 5-9 years              2904 non-null   float64\n",
            " 20  Income composition of resources  2771 non-null   float64\n",
            " 21  Schooling                        2775 non-null   float64\n",
            "dtypes: float64(16), int64(4), object(2)\n",
            "memory usage: 505.1+ KB\n"
          ]
        }
      ]
    },
    {
      "cell_type": "markdown",
      "metadata": {
        "id": "mOIRuleeHzY0"
      },
      "source": [
        "**Q:** Which column(s) has/have non-numeric values?\n",
        "\n",
        "**A:** Country and Status."
      ]
    },
    {
      "cell_type": "markdown",
      "metadata": {
        "id": "EWiqsKkOnT7J"
      },
      "source": [
        "---"
      ]
    },
    {
      "cell_type": "markdown",
      "metadata": {
        "id": "4CrPEfhPDD7g"
      },
      "source": [
        "#### 2. Renaming Columns\n",
        "\n",
        "Rename some columns if they contain leading and trailing spaces."
      ]
    },
    {
      "cell_type": "code",
      "metadata": {
        "id": "xNrm1FKyEcwM",
        "colab": {
          "base_uri": "https://localhost:8080/"
        },
        "outputId": "c58900d4-209e-46f3-92da-29368cd6b423"
      },
      "source": [
        "# Get a list of all the columns before renaming.\n",
        "df.columns"
      ],
      "execution_count": null,
      "outputs": [
        {
          "output_type": "execute_result",
          "data": {
            "text/plain": [
              "Index(['Country', 'Year', 'Status', 'Life expectancy ', 'Adult Mortality',\n",
              "       'infant deaths', 'Alcohol', 'percentage expenditure', 'Hepatitis B',\n",
              "       'Measles ', ' BMI ', 'under-five deaths ', 'Polio', 'Total expenditure',\n",
              "       'Diphtheria ', ' HIV/AIDS', 'GDP', 'Population',\n",
              "       ' thinness  1-19 years', ' thinness 5-9 years',\n",
              "       'Income composition of resources', 'Schooling'],\n",
              "      dtype='object')"
            ]
          },
          "metadata": {},
          "execution_count": 3
        }
      ]
    },
    {
      "cell_type": "markdown",
      "metadata": {
        "id": "-2aBkbVWEhOe"
      },
      "source": [
        "**Q:** Which columns contain trailing whitespaces (spaces before and after) in their names?\n",
        "\n",
        "**A:** Life expentancy, Measles, BMI, under-five deaths, Diphtheria, HIV/AIDS, thinness 1-19 years, thinness 5-9 years."
      ]
    },
    {
      "cell_type": "code",
      "metadata": {
        "id": "_OC_6w7EDHAA"
      },
      "source": [
        "# Remove whitespaces from both ends in the column name\n",
        "col_to_rename = ['Life expectancy ', 'Measles ', ' BMI ', 'under-five deaths ','Diphtheria ', ' HIV/AIDS', ' thinness  1-19 years', ' thinness 5-9 years']\n",
        "\n",
        "for i in col_to_rename:\n",
        "  df.rename(columns= {i : i.strip()}, inplace=True)"
      ],
      "execution_count": null,
      "outputs": []
    },
    {
      "cell_type": "code",
      "metadata": {
        "id": "AvadRkvzFM8m",
        "colab": {
          "base_uri": "https://localhost:8080/"
        },
        "outputId": "53e084b4-93ae-498c-e94a-47dc1cfc7a04"
      },
      "source": [
        "# Get list of all the columns after renaming.\n",
        "df.columns"
      ],
      "execution_count": null,
      "outputs": [
        {
          "output_type": "execute_result",
          "data": {
            "text/plain": [
              "Index(['Country', 'Year', 'Status', 'Life expectancy', 'Adult Mortality',\n",
              "       'infant deaths', 'Alcohol', 'percentage expenditure', 'Hepatitis B',\n",
              "       'Measles', 'BMI', 'under-five deaths', 'Polio', 'Total expenditure',\n",
              "       'Diphtheria', 'HIV/AIDS', 'GDP', 'Population', 'thinness  1-19 years',\n",
              "       'thinness 5-9 years', 'Income composition of resources', 'Schooling'],\n",
              "      dtype='object')"
            ]
          },
          "metadata": {},
          "execution_count": 5
        }
      ]
    },
    {
      "cell_type": "markdown",
      "metadata": {
        "id": "kWmISU_-DP_l"
      },
      "source": [
        "---"
      ]
    },
    {
      "cell_type": "markdown",
      "metadata": {
        "id": "wmUC8gulmsu8"
      },
      "source": [
        "#### 3. Treat Null Values\n",
        "\n",
        "Check for the null values in the DataFrame.\n"
      ]
    },
    {
      "cell_type": "code",
      "metadata": {
        "id": "FchEirt6FXwf",
        "colab": {
          "base_uri": "https://localhost:8080/"
        },
        "outputId": "4c830818-b037-40d9-e6ec-5e90172f8404"
      },
      "source": [
        "# Check for the percentage null values in all the columns.\n",
        "(df.isnull().sum() * 100) / df.shape[0]"
      ],
      "execution_count": null,
      "outputs": [
        {
          "output_type": "execute_result",
          "data": {
            "text/plain": [
              "Country                             0.000000\n",
              "Year                                0.000000\n",
              "Status                              0.000000\n",
              "Life expectancy                     0.340368\n",
              "Adult Mortality                     0.340368\n",
              "infant deaths                       0.000000\n",
              "Alcohol                             6.603131\n",
              "percentage expenditure              0.000000\n",
              "Hepatitis B                        18.822328\n",
              "Measles                             0.000000\n",
              "BMI                                 1.157250\n",
              "under-five deaths                   0.000000\n",
              "Polio                               0.646698\n",
              "Total expenditure                   7.692308\n",
              "Diphtheria                          0.646698\n",
              "HIV/AIDS                            0.000000\n",
              "GDP                                15.248468\n",
              "Population                         22.191967\n",
              "thinness  1-19 years                1.157250\n",
              "thinness 5-9 years                  1.157250\n",
              "Income composition of resources     5.684139\n",
              "Schooling                           5.547992\n",
              "dtype: float64"
            ]
          },
          "metadata": {},
          "execution_count": 6
        }
      ]
    },
    {
      "cell_type": "markdown",
      "metadata": {
        "id": "UR4BEOggFfkC"
      },
      "source": [
        "Let's drop all the columns from the DataFrame containing more than 15% percent of the missing values.\n",
        "\n",
        "**Q:** Which columns need to be dropped?\n",
        "\n",
        "**A:**Hepatitis B = 18.822328, GDP = 15.248468 and population = 22.191967 are need to be dropped because they are having more than 15% of the missing value."
      ]
    },
    {
      "cell_type": "code",
      "metadata": {
        "id": "ymnl5XNOHRmf",
        "colab": {
          "base_uri": "https://localhost:8080/"
        },
        "outputId": "5f606106-cb6f-43ec-ad7e-4f4dc5954234"
      },
      "source": [
        "# List of columns containing more than 15% of the missing values.\n",
        "col_to_drop = ['Hepatitis B', 'GDP', 'Population']\n",
        "col_to_drop"
      ],
      "execution_count": null,
      "outputs": [
        {
          "output_type": "execute_result",
          "data": {
            "text/plain": [
              "['Hepatitis B', 'GDP', 'Population']"
            ]
          },
          "metadata": {},
          "execution_count": 7
        }
      ]
    },
    {
      "cell_type": "code",
      "metadata": {
        "id": "gJ0mt8VjGGsv"
      },
      "source": [
        "# Drop the columns containing more than 15% of the missing values.\n",
        "for i in col_to_drop:\n",
        "  df = df.drop(i, axis=1)"
      ],
      "execution_count": null,
      "outputs": []
    },
    {
      "cell_type": "markdown",
      "metadata": {
        "id": "S0eiYoEYHP5T"
      },
      "source": [
        "Replace the null values with the respective median of the columns.\n",
        "\n",
        "**Hint:** To replace the null values with their respective median, you can use `fillna()` function. Some of the examples are:\n",
        "\n",
        "- `df.fillna('0')` $\\rightarrow$ Replaces all null values in the DataFrame `df` with `0`.\n",
        "\n",
        "- `df.fillna('0', inplace = True)` $\\rightarrow$ Here the `inplace = True` parameter instructs to replace the null values in-place i.e. directly inside the DataFrame without creating its copy. It is an optional parameter.\n",
        "\n",
        "- `df['column_name'].fillna(df['column_name'].median(), inplace = True)` $\\rightarrow$ Replaces all null values of a column with its median.\n",
        "\n",
        "\n",
        "\n",
        "\n"
      ]
    },
    {
      "cell_type": "code",
      "metadata": {
        "id": "iXo7oC3oItEn",
        "colab": {
          "base_uri": "https://localhost:8080/"
        },
        "outputId": "ef5b2fc4-03dd-4a0f-b0ae-f8d2639b0716"
      },
      "source": [
        "# Get the columns having the null values.\n",
        "df.isnull().sum()"
      ],
      "execution_count": null,
      "outputs": [
        {
          "output_type": "execute_result",
          "data": {
            "text/plain": [
              "Country                              0\n",
              "Year                                 0\n",
              "Status                               0\n",
              "Life expectancy                     10\n",
              "Adult Mortality                     10\n",
              "infant deaths                        0\n",
              "Alcohol                            194\n",
              "percentage expenditure               0\n",
              "Measles                              0\n",
              "BMI                                 34\n",
              "under-five deaths                    0\n",
              "Polio                               19\n",
              "Total expenditure                  226\n",
              "Diphtheria                          19\n",
              "HIV/AIDS                             0\n",
              "thinness  1-19 years                34\n",
              "thinness 5-9 years                  34\n",
              "Income composition of resources    167\n",
              "Schooling                          163\n",
              "dtype: int64"
            ]
          },
          "metadata": {},
          "execution_count": 9
        }
      ]
    },
    {
      "cell_type": "markdown",
      "metadata": {
        "id": "Hl0X8hSHU8P4"
      },
      "source": [
        "Before replacing the null values, let's split our DataFrame into two separate DataFrames based on the development status of the countries."
      ]
    },
    {
      "cell_type": "code",
      "metadata": {
        "id": "8UpUeRXxZRqw",
        "colab": {
          "base_uri": "https://localhost:8080/",
          "height": 322
        },
        "outputId": "c5af3500-c9cb-4486-fee3-6076cdef11e1"
      },
      "source": [
        "# Grouping the DataFrame based on the development status of countries. First get the DataFrame of the developed countries\n",
        "developed_df = df[df['Status'] == 'Developed']\n",
        "developed_df.head()"
      ],
      "execution_count": null,
      "outputs": [
        {
          "output_type": "execute_result",
          "data": {
            "text/plain": [
              "       Country  Year     Status  Life expectancy  Adult Mortality  \\\n",
              "112  Australia  2015  Developed             82.8             59.0   \n",
              "113  Australia  2014  Developed             82.7              6.0   \n",
              "114  Australia  2013  Developed             82.5             61.0   \n",
              "115  Australia  2012  Developed             82.3             61.0   \n",
              "116  Australia  2011  Developed             82.0             63.0   \n",
              "\n",
              "     infant deaths  Alcohol  percentage expenditure  Measles   BMI  \\\n",
              "112              1      NaN                 0.00000       74  66.6   \n",
              "113              1     9.71             10769.36305      340  66.1   \n",
              "114              1     9.87             11734.85381      158  65.5   \n",
              "115              1    10.03             11714.99858      199  65.0   \n",
              "116              1    10.30             10986.26527      190  64.4   \n",
              "\n",
              "     under-five deaths  Polio  Total expenditure  Diphtheria  HIV/AIDS  \\\n",
              "112                  1   93.0                NaN        93.0       0.1   \n",
              "113                  1   92.0               9.42        92.0       0.1   \n",
              "114                  1   91.0               9.36        91.0       0.1   \n",
              "115                  1   92.0               9.36        92.0       0.1   \n",
              "116                  1   92.0               9.20        92.0       0.1   \n",
              "\n",
              "     thinness  1-19 years  thinness 5-9 years  \\\n",
              "112                   0.6                 0.6   \n",
              "113                   0.6                 0.6   \n",
              "114                   0.6                 0.6   \n",
              "115                   0.6                 0.6   \n",
              "116                   0.6                 0.6   \n",
              "\n",
              "     Income composition of resources  Schooling  \n",
              "112                            0.937       20.4  \n",
              "113                            0.936       20.4  \n",
              "114                            0.933       20.3  \n",
              "115                            0.930       20.1  \n",
              "116                            0.927       19.8  "
            ],
            "text/html": [
              "\n",
              "  <div id=\"df-10f30a87-622a-42ef-9160-b9455eec2498\">\n",
              "    <div class=\"colab-df-container\">\n",
              "      <div>\n",
              "<style scoped>\n",
              "    .dataframe tbody tr th:only-of-type {\n",
              "        vertical-align: middle;\n",
              "    }\n",
              "\n",
              "    .dataframe tbody tr th {\n",
              "        vertical-align: top;\n",
              "    }\n",
              "\n",
              "    .dataframe thead th {\n",
              "        text-align: right;\n",
              "    }\n",
              "</style>\n",
              "<table border=\"1\" class=\"dataframe\">\n",
              "  <thead>\n",
              "    <tr style=\"text-align: right;\">\n",
              "      <th></th>\n",
              "      <th>Country</th>\n",
              "      <th>Year</th>\n",
              "      <th>Status</th>\n",
              "      <th>Life expectancy</th>\n",
              "      <th>Adult Mortality</th>\n",
              "      <th>infant deaths</th>\n",
              "      <th>Alcohol</th>\n",
              "      <th>percentage expenditure</th>\n",
              "      <th>Measles</th>\n",
              "      <th>BMI</th>\n",
              "      <th>under-five deaths</th>\n",
              "      <th>Polio</th>\n",
              "      <th>Total expenditure</th>\n",
              "      <th>Diphtheria</th>\n",
              "      <th>HIV/AIDS</th>\n",
              "      <th>thinness  1-19 years</th>\n",
              "      <th>thinness 5-9 years</th>\n",
              "      <th>Income composition of resources</th>\n",
              "      <th>Schooling</th>\n",
              "    </tr>\n",
              "  </thead>\n",
              "  <tbody>\n",
              "    <tr>\n",
              "      <th>112</th>\n",
              "      <td>Australia</td>\n",
              "      <td>2015</td>\n",
              "      <td>Developed</td>\n",
              "      <td>82.8</td>\n",
              "      <td>59.0</td>\n",
              "      <td>1</td>\n",
              "      <td>NaN</td>\n",
              "      <td>0.00000</td>\n",
              "      <td>74</td>\n",
              "      <td>66.6</td>\n",
              "      <td>1</td>\n",
              "      <td>93.0</td>\n",
              "      <td>NaN</td>\n",
              "      <td>93.0</td>\n",
              "      <td>0.1</td>\n",
              "      <td>0.6</td>\n",
              "      <td>0.6</td>\n",
              "      <td>0.937</td>\n",
              "      <td>20.4</td>\n",
              "    </tr>\n",
              "    <tr>\n",
              "      <th>113</th>\n",
              "      <td>Australia</td>\n",
              "      <td>2014</td>\n",
              "      <td>Developed</td>\n",
              "      <td>82.7</td>\n",
              "      <td>6.0</td>\n",
              "      <td>1</td>\n",
              "      <td>9.71</td>\n",
              "      <td>10769.36305</td>\n",
              "      <td>340</td>\n",
              "      <td>66.1</td>\n",
              "      <td>1</td>\n",
              "      <td>92.0</td>\n",
              "      <td>9.42</td>\n",
              "      <td>92.0</td>\n",
              "      <td>0.1</td>\n",
              "      <td>0.6</td>\n",
              "      <td>0.6</td>\n",
              "      <td>0.936</td>\n",
              "      <td>20.4</td>\n",
              "    </tr>\n",
              "    <tr>\n",
              "      <th>114</th>\n",
              "      <td>Australia</td>\n",
              "      <td>2013</td>\n",
              "      <td>Developed</td>\n",
              "      <td>82.5</td>\n",
              "      <td>61.0</td>\n",
              "      <td>1</td>\n",
              "      <td>9.87</td>\n",
              "      <td>11734.85381</td>\n",
              "      <td>158</td>\n",
              "      <td>65.5</td>\n",
              "      <td>1</td>\n",
              "      <td>91.0</td>\n",
              "      <td>9.36</td>\n",
              "      <td>91.0</td>\n",
              "      <td>0.1</td>\n",
              "      <td>0.6</td>\n",
              "      <td>0.6</td>\n",
              "      <td>0.933</td>\n",
              "      <td>20.3</td>\n",
              "    </tr>\n",
              "    <tr>\n",
              "      <th>115</th>\n",
              "      <td>Australia</td>\n",
              "      <td>2012</td>\n",
              "      <td>Developed</td>\n",
              "      <td>82.3</td>\n",
              "      <td>61.0</td>\n",
              "      <td>1</td>\n",
              "      <td>10.03</td>\n",
              "      <td>11714.99858</td>\n",
              "      <td>199</td>\n",
              "      <td>65.0</td>\n",
              "      <td>1</td>\n",
              "      <td>92.0</td>\n",
              "      <td>9.36</td>\n",
              "      <td>92.0</td>\n",
              "      <td>0.1</td>\n",
              "      <td>0.6</td>\n",
              "      <td>0.6</td>\n",
              "      <td>0.930</td>\n",
              "      <td>20.1</td>\n",
              "    </tr>\n",
              "    <tr>\n",
              "      <th>116</th>\n",
              "      <td>Australia</td>\n",
              "      <td>2011</td>\n",
              "      <td>Developed</td>\n",
              "      <td>82.0</td>\n",
              "      <td>63.0</td>\n",
              "      <td>1</td>\n",
              "      <td>10.30</td>\n",
              "      <td>10986.26527</td>\n",
              "      <td>190</td>\n",
              "      <td>64.4</td>\n",
              "      <td>1</td>\n",
              "      <td>92.0</td>\n",
              "      <td>9.20</td>\n",
              "      <td>92.0</td>\n",
              "      <td>0.1</td>\n",
              "      <td>0.6</td>\n",
              "      <td>0.6</td>\n",
              "      <td>0.927</td>\n",
              "      <td>19.8</td>\n",
              "    </tr>\n",
              "  </tbody>\n",
              "</table>\n",
              "</div>\n",
              "      <button class=\"colab-df-convert\" onclick=\"convertToInteractive('df-10f30a87-622a-42ef-9160-b9455eec2498')\"\n",
              "              title=\"Convert this dataframe to an interactive table.\"\n",
              "              style=\"display:none;\">\n",
              "        \n",
              "  <svg xmlns=\"http://www.w3.org/2000/svg\" height=\"24px\"viewBox=\"0 0 24 24\"\n",
              "       width=\"24px\">\n",
              "    <path d=\"M0 0h24v24H0V0z\" fill=\"none\"/>\n",
              "    <path d=\"M18.56 5.44l.94 2.06.94-2.06 2.06-.94-2.06-.94-.94-2.06-.94 2.06-2.06.94zm-11 1L8.5 8.5l.94-2.06 2.06-.94-2.06-.94L8.5 2.5l-.94 2.06-2.06.94zm10 10l.94 2.06.94-2.06 2.06-.94-2.06-.94-.94-2.06-.94 2.06-2.06.94z\"/><path d=\"M17.41 7.96l-1.37-1.37c-.4-.4-.92-.59-1.43-.59-.52 0-1.04.2-1.43.59L10.3 9.45l-7.72 7.72c-.78.78-.78 2.05 0 2.83L4 21.41c.39.39.9.59 1.41.59.51 0 1.02-.2 1.41-.59l7.78-7.78 2.81-2.81c.8-.78.8-2.07 0-2.86zM5.41 20L4 18.59l7.72-7.72 1.47 1.35L5.41 20z\"/>\n",
              "  </svg>\n",
              "      </button>\n",
              "      \n",
              "  <style>\n",
              "    .colab-df-container {\n",
              "      display:flex;\n",
              "      flex-wrap:wrap;\n",
              "      gap: 12px;\n",
              "    }\n",
              "\n",
              "    .colab-df-convert {\n",
              "      background-color: #E8F0FE;\n",
              "      border: none;\n",
              "      border-radius: 50%;\n",
              "      cursor: pointer;\n",
              "      display: none;\n",
              "      fill: #1967D2;\n",
              "      height: 32px;\n",
              "      padding: 0 0 0 0;\n",
              "      width: 32px;\n",
              "    }\n",
              "\n",
              "    .colab-df-convert:hover {\n",
              "      background-color: #E2EBFA;\n",
              "      box-shadow: 0px 1px 2px rgba(60, 64, 67, 0.3), 0px 1px 3px 1px rgba(60, 64, 67, 0.15);\n",
              "      fill: #174EA6;\n",
              "    }\n",
              "\n",
              "    [theme=dark] .colab-df-convert {\n",
              "      background-color: #3B4455;\n",
              "      fill: #D2E3FC;\n",
              "    }\n",
              "\n",
              "    [theme=dark] .colab-df-convert:hover {\n",
              "      background-color: #434B5C;\n",
              "      box-shadow: 0px 1px 3px 1px rgba(0, 0, 0, 0.15);\n",
              "      filter: drop-shadow(0px 1px 2px rgba(0, 0, 0, 0.3));\n",
              "      fill: #FFFFFF;\n",
              "    }\n",
              "  </style>\n",
              "\n",
              "      <script>\n",
              "        const buttonEl =\n",
              "          document.querySelector('#df-10f30a87-622a-42ef-9160-b9455eec2498 button.colab-df-convert');\n",
              "        buttonEl.style.display =\n",
              "          google.colab.kernel.accessAllowed ? 'block' : 'none';\n",
              "\n",
              "        async function convertToInteractive(key) {\n",
              "          const element = document.querySelector('#df-10f30a87-622a-42ef-9160-b9455eec2498');\n",
              "          const dataTable =\n",
              "            await google.colab.kernel.invokeFunction('convertToInteractive',\n",
              "                                                     [key], {});\n",
              "          if (!dataTable) return;\n",
              "\n",
              "          const docLinkHtml = 'Like what you see? Visit the ' +\n",
              "            '<a target=\"_blank\" href=https://colab.research.google.com/notebooks/data_table.ipynb>data table notebook</a>'\n",
              "            + ' to learn more about interactive tables.';\n",
              "          element.innerHTML = '';\n",
              "          dataTable['output_type'] = 'display_data';\n",
              "          await google.colab.output.renderOutput(dataTable, element);\n",
              "          const docLink = document.createElement('div');\n",
              "          docLink.innerHTML = docLinkHtml;\n",
              "          element.appendChild(docLink);\n",
              "        }\n",
              "      </script>\n",
              "    </div>\n",
              "  </div>\n",
              "  "
            ]
          },
          "metadata": {},
          "execution_count": 10
        }
      ]
    },
    {
      "cell_type": "code",
      "metadata": {
        "id": "mALnE8kGHd5A",
        "colab": {
          "base_uri": "https://localhost:8080/"
        },
        "outputId": "cec2ff52-a58b-4f44-a9de-5d67def4370d"
      },
      "source": [
        "# Check for the null values in the developed countries DataFrame\n",
        "developed_df.isnull().sum()"
      ],
      "execution_count": null,
      "outputs": [
        {
          "output_type": "execute_result",
          "data": {
            "text/plain": [
              "Country                             0\n",
              "Year                                0\n",
              "Status                              0\n",
              "Life expectancy                     0\n",
              "Adult Mortality                     0\n",
              "infant deaths                       0\n",
              "Alcohol                            28\n",
              "percentage expenditure              0\n",
              "Measles                             0\n",
              "BMI                                 0\n",
              "under-five deaths                   0\n",
              "Polio                               0\n",
              "Total expenditure                  32\n",
              "Diphtheria                          0\n",
              "HIV/AIDS                            0\n",
              "thinness  1-19 years                0\n",
              "thinness 5-9 years                  0\n",
              "Income composition of resources    48\n",
              "Schooling                          48\n",
              "dtype: int64"
            ]
          },
          "metadata": {},
          "execution_count": 11
        }
      ]
    },
    {
      "cell_type": "code",
      "metadata": {
        "id": "0eSX3GoCH9SW",
        "colab": {
          "base_uri": "https://localhost:8080/"
        },
        "outputId": "3de0a496-c0a9-43b6-a8f0-3b520bd0d7e5"
      },
      "source": [
        "# Get the columns having the null values in the developed countries DataFrame\n",
        "null_col = ['Alcohol', 'Total expenditure', 'Income composition of resources', 'Schooling']\n",
        "null_col"
      ],
      "execution_count": null,
      "outputs": [
        {
          "output_type": "execute_result",
          "data": {
            "text/plain": [
              "['Alcohol',\n",
              " 'Total expenditure',\n",
              " 'Income composition of resources',\n",
              " 'Schooling']"
            ]
          },
          "metadata": {},
          "execution_count": 12
        }
      ]
    },
    {
      "cell_type": "code",
      "metadata": {
        "id": "SGaMndaMX2QR",
        "colab": {
          "base_uri": "https://localhost:8080/"
        },
        "outputId": "4678f141-0e4a-42f7-83c1-67750381da44"
      },
      "source": [
        "# Get a descriptive statistics summary of the columns having the null values in the developed countries DataFrame\n",
        "for i in null_col:\n",
        "  print(i, developed_df[i].describe(), sep='\\n')\n",
        "  print()"
      ],
      "execution_count": null,
      "outputs": [
        {
          "output_type": "stream",
          "name": "stdout",
          "text": [
            "Alcohol\n",
            "count    484.000000\n",
            "mean       9.826736\n",
            "std        2.765858\n",
            "min        0.010000\n",
            "25%        8.617500\n",
            "50%       10.320000\n",
            "75%       11.697500\n",
            "max       15.190000\n",
            "Name: Alcohol, dtype: float64\n",
            "\n",
            "Total expenditure\n",
            "count    480.000000\n",
            "mean       7.554042\n",
            "std        2.984389\n",
            "min        1.100000\n",
            "25%        6.407500\n",
            "50%        7.895000\n",
            "75%        9.212500\n",
            "max       17.600000\n",
            "Name: Total expenditure, dtype: float64\n",
            "\n",
            "Income composition of resources\n",
            "count    464.000000\n",
            "mean       0.852489\n",
            "std        0.052843\n",
            "min        0.703000\n",
            "25%        0.815000\n",
            "50%        0.862000\n",
            "75%        0.894000\n",
            "max        0.948000\n",
            "Name: Income composition of resources, dtype: float64\n",
            "\n",
            "Schooling\n",
            "count    464.000000\n",
            "mean      15.845474\n",
            "std        1.766799\n",
            "min       11.500000\n",
            "25%       14.700000\n",
            "50%       15.800000\n",
            "75%       16.800000\n",
            "max       20.700000\n",
            "Name: Schooling, dtype: float64\n",
            "\n"
          ]
        }
      ]
    },
    {
      "cell_type": "code",
      "metadata": {
        "id": "zxKHOrvQEpiO",
        "colab": {
          "base_uri": "https://localhost:8080/"
        },
        "outputId": "e7618602-79ca-49ff-a393-16441104b8ef"
      },
      "source": [
        "# Replace the missing values of the developed countries DataFrame with the median value of the respective columns.\n",
        "for i in null_col:\n",
        "  developed_df.loc[developed_df[i].isnull() == True, i] = developed_df[i].median()"
      ],
      "execution_count": null,
      "outputs": [
        {
          "output_type": "stream",
          "name": "stderr",
          "text": [
            "/usr/local/lib/python3.7/dist-packages/pandas/core/indexing.py:1817: SettingWithCopyWarning: \n",
            "A value is trying to be set on a copy of a slice from a DataFrame.\n",
            "Try using .loc[row_indexer,col_indexer] = value instead\n",
            "\n",
            "See the caveats in the documentation: https://pandas.pydata.org/pandas-docs/stable/user_guide/indexing.html#returning-a-view-versus-a-copy\n",
            "  self._setitem_single_column(loc, value, pi)\n"
          ]
        }
      ]
    },
    {
      "cell_type": "code",
      "metadata": {
        "id": "hbnrKqcJGKqD",
        "colab": {
          "base_uri": "https://localhost:8080/"
        },
        "outputId": "7613e4f9-93cc-4a15-b1a1-42c828ed74ca"
      },
      "source": [
        "# Again get a descriptive statistics summary of the columns having null values in the developed countries DataFrame.\n",
        "# This is done to verify that the replaced values did not disrupt the data\n",
        "for i in null_col:\n",
        "  print(i, developed_df[i].describe(), sep='\\n')\n",
        "  print()"
      ],
      "execution_count": null,
      "outputs": [
        {
          "output_type": "stream",
          "name": "stdout",
          "text": [
            "Alcohol\n",
            "count    512.000000\n",
            "mean       9.853711\n",
            "std        2.691356\n",
            "min        0.010000\n",
            "25%        8.740000\n",
            "50%       10.320000\n",
            "75%       11.582500\n",
            "max       15.190000\n",
            "Name: Alcohol, dtype: float64\n",
            "\n",
            "Total expenditure\n",
            "count    512.000000\n",
            "mean       7.575352\n",
            "std        2.890614\n",
            "min        1.100000\n",
            "25%        6.542500\n",
            "50%        7.895000\n",
            "75%        9.140000\n",
            "max       17.600000\n",
            "Name: Total expenditure, dtype: float64\n",
            "\n",
            "Income composition of resources\n",
            "count    512.000000\n",
            "mean       0.853381\n",
            "std        0.050377\n",
            "min        0.703000\n",
            "25%        0.819750\n",
            "50%        0.862000\n",
            "75%        0.891250\n",
            "max        0.948000\n",
            "Name: Income composition of resources, dtype: float64\n",
            "\n",
            "Schooling\n",
            "count    512.000000\n",
            "mean      15.841211\n",
            "std        1.681824\n",
            "min       11.500000\n",
            "25%       14.800000\n",
            "50%       15.800000\n",
            "75%       16.600000\n",
            "max       20.700000\n",
            "Name: Schooling, dtype: float64\n",
            "\n"
          ]
        }
      ]
    },
    {
      "cell_type": "markdown",
      "metadata": {
        "id": "H31A9ZkpXXY8"
      },
      "source": [
        "**Note:** Make sure that there is no major change in the mean, std, min, 25%, 50%, 75% and max values after replacing null values."
      ]
    },
    {
      "cell_type": "code",
      "metadata": {
        "id": "P7xxlveYMpg_",
        "colab": {
          "base_uri": "https://localhost:8080/"
        },
        "outputId": "a2a6c602-217c-4559-df86-581d6a00faa0"
      },
      "source": [
        "# Again check whether there are any missing values\n",
        "developed_df.isnull().sum()"
      ],
      "execution_count": null,
      "outputs": [
        {
          "output_type": "execute_result",
          "data": {
            "text/plain": [
              "Country                            0\n",
              "Year                               0\n",
              "Status                             0\n",
              "Life expectancy                    0\n",
              "Adult Mortality                    0\n",
              "infant deaths                      0\n",
              "Alcohol                            0\n",
              "percentage expenditure             0\n",
              "Measles                            0\n",
              "BMI                                0\n",
              "under-five deaths                  0\n",
              "Polio                              0\n",
              "Total expenditure                  0\n",
              "Diphtheria                         0\n",
              "HIV/AIDS                           0\n",
              "thinness  1-19 years               0\n",
              "thinness 5-9 years                 0\n",
              "Income composition of resources    0\n",
              "Schooling                          0\n",
              "dtype: int64"
            ]
          },
          "metadata": {},
          "execution_count": 16
        }
      ]
    },
    {
      "cell_type": "code",
      "metadata": {
        "id": "VTxn8dmNZfv3",
        "colab": {
          "base_uri": "https://localhost:8080/",
          "height": 322
        },
        "outputId": "95d7ee4e-ba3b-467a-88ee-93ed900899b5"
      },
      "source": [
        "# Get the DataFrame of the developing countries\n",
        "developing_df = df[df['Status'] == 'Developing']\n",
        "developing_df.head()"
      ],
      "execution_count": null,
      "outputs": [
        {
          "output_type": "execute_result",
          "data": {
            "text/plain": [
              "       Country  Year      Status  Life expectancy  Adult Mortality  \\\n",
              "0  Afghanistan  2015  Developing             65.0            263.0   \n",
              "1  Afghanistan  2014  Developing             59.9            271.0   \n",
              "2  Afghanistan  2013  Developing             59.9            268.0   \n",
              "3  Afghanistan  2012  Developing             59.5            272.0   \n",
              "4  Afghanistan  2011  Developing             59.2            275.0   \n",
              "\n",
              "   infant deaths  Alcohol  percentage expenditure  Measles   BMI  \\\n",
              "0             62     0.01               71.279624     1154  19.1   \n",
              "1             64     0.01               73.523582      492  18.6   \n",
              "2             66     0.01               73.219243      430  18.1   \n",
              "3             69     0.01               78.184215     2787  17.6   \n",
              "4             71     0.01                7.097109     3013  17.2   \n",
              "\n",
              "   under-five deaths  Polio  Total expenditure  Diphtheria  HIV/AIDS  \\\n",
              "0                 83    6.0               8.16        65.0       0.1   \n",
              "1                 86   58.0               8.18        62.0       0.1   \n",
              "2                 89   62.0               8.13        64.0       0.1   \n",
              "3                 93   67.0               8.52        67.0       0.1   \n",
              "4                 97   68.0               7.87        68.0       0.1   \n",
              "\n",
              "   thinness  1-19 years  thinness 5-9 years  Income composition of resources  \\\n",
              "0                  17.2                17.3                            0.479   \n",
              "1                  17.5                17.5                            0.476   \n",
              "2                  17.7                17.7                            0.470   \n",
              "3                  17.9                18.0                            0.463   \n",
              "4                  18.2                18.2                            0.454   \n",
              "\n",
              "   Schooling  \n",
              "0       10.1  \n",
              "1       10.0  \n",
              "2        9.9  \n",
              "3        9.8  \n",
              "4        9.5  "
            ],
            "text/html": [
              "\n",
              "  <div id=\"df-af53f4e1-104a-49de-b831-9e1b20ddb54c\">\n",
              "    <div class=\"colab-df-container\">\n",
              "      <div>\n",
              "<style scoped>\n",
              "    .dataframe tbody tr th:only-of-type {\n",
              "        vertical-align: middle;\n",
              "    }\n",
              "\n",
              "    .dataframe tbody tr th {\n",
              "        vertical-align: top;\n",
              "    }\n",
              "\n",
              "    .dataframe thead th {\n",
              "        text-align: right;\n",
              "    }\n",
              "</style>\n",
              "<table border=\"1\" class=\"dataframe\">\n",
              "  <thead>\n",
              "    <tr style=\"text-align: right;\">\n",
              "      <th></th>\n",
              "      <th>Country</th>\n",
              "      <th>Year</th>\n",
              "      <th>Status</th>\n",
              "      <th>Life expectancy</th>\n",
              "      <th>Adult Mortality</th>\n",
              "      <th>infant deaths</th>\n",
              "      <th>Alcohol</th>\n",
              "      <th>percentage expenditure</th>\n",
              "      <th>Measles</th>\n",
              "      <th>BMI</th>\n",
              "      <th>under-five deaths</th>\n",
              "      <th>Polio</th>\n",
              "      <th>Total expenditure</th>\n",
              "      <th>Diphtheria</th>\n",
              "      <th>HIV/AIDS</th>\n",
              "      <th>thinness  1-19 years</th>\n",
              "      <th>thinness 5-9 years</th>\n",
              "      <th>Income composition of resources</th>\n",
              "      <th>Schooling</th>\n",
              "    </tr>\n",
              "  </thead>\n",
              "  <tbody>\n",
              "    <tr>\n",
              "      <th>0</th>\n",
              "      <td>Afghanistan</td>\n",
              "      <td>2015</td>\n",
              "      <td>Developing</td>\n",
              "      <td>65.0</td>\n",
              "      <td>263.0</td>\n",
              "      <td>62</td>\n",
              "      <td>0.01</td>\n",
              "      <td>71.279624</td>\n",
              "      <td>1154</td>\n",
              "      <td>19.1</td>\n",
              "      <td>83</td>\n",
              "      <td>6.0</td>\n",
              "      <td>8.16</td>\n",
              "      <td>65.0</td>\n",
              "      <td>0.1</td>\n",
              "      <td>17.2</td>\n",
              "      <td>17.3</td>\n",
              "      <td>0.479</td>\n",
              "      <td>10.1</td>\n",
              "    </tr>\n",
              "    <tr>\n",
              "      <th>1</th>\n",
              "      <td>Afghanistan</td>\n",
              "      <td>2014</td>\n",
              "      <td>Developing</td>\n",
              "      <td>59.9</td>\n",
              "      <td>271.0</td>\n",
              "      <td>64</td>\n",
              "      <td>0.01</td>\n",
              "      <td>73.523582</td>\n",
              "      <td>492</td>\n",
              "      <td>18.6</td>\n",
              "      <td>86</td>\n",
              "      <td>58.0</td>\n",
              "      <td>8.18</td>\n",
              "      <td>62.0</td>\n",
              "      <td>0.1</td>\n",
              "      <td>17.5</td>\n",
              "      <td>17.5</td>\n",
              "      <td>0.476</td>\n",
              "      <td>10.0</td>\n",
              "    </tr>\n",
              "    <tr>\n",
              "      <th>2</th>\n",
              "      <td>Afghanistan</td>\n",
              "      <td>2013</td>\n",
              "      <td>Developing</td>\n",
              "      <td>59.9</td>\n",
              "      <td>268.0</td>\n",
              "      <td>66</td>\n",
              "      <td>0.01</td>\n",
              "      <td>73.219243</td>\n",
              "      <td>430</td>\n",
              "      <td>18.1</td>\n",
              "      <td>89</td>\n",
              "      <td>62.0</td>\n",
              "      <td>8.13</td>\n",
              "      <td>64.0</td>\n",
              "      <td>0.1</td>\n",
              "      <td>17.7</td>\n",
              "      <td>17.7</td>\n",
              "      <td>0.470</td>\n",
              "      <td>9.9</td>\n",
              "    </tr>\n",
              "    <tr>\n",
              "      <th>3</th>\n",
              "      <td>Afghanistan</td>\n",
              "      <td>2012</td>\n",
              "      <td>Developing</td>\n",
              "      <td>59.5</td>\n",
              "      <td>272.0</td>\n",
              "      <td>69</td>\n",
              "      <td>0.01</td>\n",
              "      <td>78.184215</td>\n",
              "      <td>2787</td>\n",
              "      <td>17.6</td>\n",
              "      <td>93</td>\n",
              "      <td>67.0</td>\n",
              "      <td>8.52</td>\n",
              "      <td>67.0</td>\n",
              "      <td>0.1</td>\n",
              "      <td>17.9</td>\n",
              "      <td>18.0</td>\n",
              "      <td>0.463</td>\n",
              "      <td>9.8</td>\n",
              "    </tr>\n",
              "    <tr>\n",
              "      <th>4</th>\n",
              "      <td>Afghanistan</td>\n",
              "      <td>2011</td>\n",
              "      <td>Developing</td>\n",
              "      <td>59.2</td>\n",
              "      <td>275.0</td>\n",
              "      <td>71</td>\n",
              "      <td>0.01</td>\n",
              "      <td>7.097109</td>\n",
              "      <td>3013</td>\n",
              "      <td>17.2</td>\n",
              "      <td>97</td>\n",
              "      <td>68.0</td>\n",
              "      <td>7.87</td>\n",
              "      <td>68.0</td>\n",
              "      <td>0.1</td>\n",
              "      <td>18.2</td>\n",
              "      <td>18.2</td>\n",
              "      <td>0.454</td>\n",
              "      <td>9.5</td>\n",
              "    </tr>\n",
              "  </tbody>\n",
              "</table>\n",
              "</div>\n",
              "      <button class=\"colab-df-convert\" onclick=\"convertToInteractive('df-af53f4e1-104a-49de-b831-9e1b20ddb54c')\"\n",
              "              title=\"Convert this dataframe to an interactive table.\"\n",
              "              style=\"display:none;\">\n",
              "        \n",
              "  <svg xmlns=\"http://www.w3.org/2000/svg\" height=\"24px\"viewBox=\"0 0 24 24\"\n",
              "       width=\"24px\">\n",
              "    <path d=\"M0 0h24v24H0V0z\" fill=\"none\"/>\n",
              "    <path d=\"M18.56 5.44l.94 2.06.94-2.06 2.06-.94-2.06-.94-.94-2.06-.94 2.06-2.06.94zm-11 1L8.5 8.5l.94-2.06 2.06-.94-2.06-.94L8.5 2.5l-.94 2.06-2.06.94zm10 10l.94 2.06.94-2.06 2.06-.94-2.06-.94-.94-2.06-.94 2.06-2.06.94z\"/><path d=\"M17.41 7.96l-1.37-1.37c-.4-.4-.92-.59-1.43-.59-.52 0-1.04.2-1.43.59L10.3 9.45l-7.72 7.72c-.78.78-.78 2.05 0 2.83L4 21.41c.39.39.9.59 1.41.59.51 0 1.02-.2 1.41-.59l7.78-7.78 2.81-2.81c.8-.78.8-2.07 0-2.86zM5.41 20L4 18.59l7.72-7.72 1.47 1.35L5.41 20z\"/>\n",
              "  </svg>\n",
              "      </button>\n",
              "      \n",
              "  <style>\n",
              "    .colab-df-container {\n",
              "      display:flex;\n",
              "      flex-wrap:wrap;\n",
              "      gap: 12px;\n",
              "    }\n",
              "\n",
              "    .colab-df-convert {\n",
              "      background-color: #E8F0FE;\n",
              "      border: none;\n",
              "      border-radius: 50%;\n",
              "      cursor: pointer;\n",
              "      display: none;\n",
              "      fill: #1967D2;\n",
              "      height: 32px;\n",
              "      padding: 0 0 0 0;\n",
              "      width: 32px;\n",
              "    }\n",
              "\n",
              "    .colab-df-convert:hover {\n",
              "      background-color: #E2EBFA;\n",
              "      box-shadow: 0px 1px 2px rgba(60, 64, 67, 0.3), 0px 1px 3px 1px rgba(60, 64, 67, 0.15);\n",
              "      fill: #174EA6;\n",
              "    }\n",
              "\n",
              "    [theme=dark] .colab-df-convert {\n",
              "      background-color: #3B4455;\n",
              "      fill: #D2E3FC;\n",
              "    }\n",
              "\n",
              "    [theme=dark] .colab-df-convert:hover {\n",
              "      background-color: #434B5C;\n",
              "      box-shadow: 0px 1px 3px 1px rgba(0, 0, 0, 0.15);\n",
              "      filter: drop-shadow(0px 1px 2px rgba(0, 0, 0, 0.3));\n",
              "      fill: #FFFFFF;\n",
              "    }\n",
              "  </style>\n",
              "\n",
              "      <script>\n",
              "        const buttonEl =\n",
              "          document.querySelector('#df-af53f4e1-104a-49de-b831-9e1b20ddb54c button.colab-df-convert');\n",
              "        buttonEl.style.display =\n",
              "          google.colab.kernel.accessAllowed ? 'block' : 'none';\n",
              "\n",
              "        async function convertToInteractive(key) {\n",
              "          const element = document.querySelector('#df-af53f4e1-104a-49de-b831-9e1b20ddb54c');\n",
              "          const dataTable =\n",
              "            await google.colab.kernel.invokeFunction('convertToInteractive',\n",
              "                                                     [key], {});\n",
              "          if (!dataTable) return;\n",
              "\n",
              "          const docLinkHtml = 'Like what you see? Visit the ' +\n",
              "            '<a target=\"_blank\" href=https://colab.research.google.com/notebooks/data_table.ipynb>data table notebook</a>'\n",
              "            + ' to learn more about interactive tables.';\n",
              "          element.innerHTML = '';\n",
              "          dataTable['output_type'] = 'display_data';\n",
              "          await google.colab.output.renderOutput(dataTable, element);\n",
              "          const docLink = document.createElement('div');\n",
              "          docLink.innerHTML = docLinkHtml;\n",
              "          element.appendChild(docLink);\n",
              "        }\n",
              "      </script>\n",
              "    </div>\n",
              "  </div>\n",
              "  "
            ]
          },
          "metadata": {},
          "execution_count": 17
        }
      ]
    },
    {
      "cell_type": "code",
      "metadata": {
        "id": "vwh_CmUyKSk5",
        "colab": {
          "base_uri": "https://localhost:8080/"
        },
        "outputId": "e159280b-7287-4d9f-e3f5-6ee5b7339af8"
      },
      "source": [
        "# Check for the null values in the developing countries DataFrame\n",
        "developing_df.isnull().sum()"
      ],
      "execution_count": null,
      "outputs": [
        {
          "output_type": "execute_result",
          "data": {
            "text/plain": [
              "Country                              0\n",
              "Year                                 0\n",
              "Status                               0\n",
              "Life expectancy                     10\n",
              "Adult Mortality                     10\n",
              "infant deaths                        0\n",
              "Alcohol                            166\n",
              "percentage expenditure               0\n",
              "Measles                              0\n",
              "BMI                                 34\n",
              "under-five deaths                    0\n",
              "Polio                               19\n",
              "Total expenditure                  194\n",
              "Diphtheria                          19\n",
              "HIV/AIDS                             0\n",
              "thinness  1-19 years                34\n",
              "thinness 5-9 years                  34\n",
              "Income composition of resources    119\n",
              "Schooling                          115\n",
              "dtype: int64"
            ]
          },
          "metadata": {},
          "execution_count": 18
        }
      ]
    },
    {
      "cell_type": "code",
      "metadata": {
        "id": "fVraxVFta5Og",
        "colab": {
          "base_uri": "https://localhost:8080/"
        },
        "outputId": "c9049da3-564f-43ec-da26-bbdaea3da5d6"
      },
      "source": [
        "# Get a descriptive statistics summary of the columns having the null values in the developing countries DataFrame\n",
        "d_null_col = ['Life expectancy', 'Adult Mortality', 'Alcohol',\n",
        "              'BMI', 'Polio', 'Total expenditure', 'Diphtheria',\n",
        "              'thinness  1-19 years', 'thinness 5-9 years',\n",
        "              'Income composition of resources', 'Schooling']\n",
        "\n",
        "for i in d_null_col:\n",
        "  print(i, developing_df[i].describe(), sep='\\n')\n",
        "  print()"
      ],
      "execution_count": null,
      "outputs": [
        {
          "output_type": "stream",
          "name": "stdout",
          "text": [
            "Life expectancy\n",
            "count    2416.000000\n",
            "mean       67.111465\n",
            "std         9.006092\n",
            "min        36.300000\n",
            "25%        61.100000\n",
            "50%        69.000000\n",
            "75%        74.000000\n",
            "max        89.000000\n",
            "Name: Life expectancy, dtype: float64\n",
            "\n",
            "Adult Mortality\n",
            "count    2416.000000\n",
            "mean      182.833195\n",
            "std       127.974557\n",
            "min         1.000000\n",
            "25%        92.000000\n",
            "50%       163.000000\n",
            "75%       253.000000\n",
            "max       723.000000\n",
            "Name: Adult Mortality, dtype: float64\n",
            "\n",
            "Alcohol\n",
            "count    2260.000000\n",
            "mean        3.484119\n",
            "std         3.347537\n",
            "min         0.010000\n",
            "25%         0.517500\n",
            "50%         2.560000\n",
            "75%         5.750000\n",
            "max        17.870000\n",
            "Name: Alcohol, dtype: float64\n",
            "\n",
            "BMI\n",
            "count    2392.000000\n",
            "mean       35.435326\n",
            "std        19.425091\n",
            "min         1.000000\n",
            "25%        18.300000\n",
            "50%        35.200000\n",
            "75%        53.200000\n",
            "max        87.300000\n",
            "Name: BMI, dtype: float64\n",
            "\n",
            "Polio\n",
            "count    2407.000000\n",
            "mean       80.170752\n",
            "std        24.671531\n",
            "min         3.000000\n",
            "25%        74.000000\n",
            "50%        91.000000\n",
            "75%        97.000000\n",
            "max        99.000000\n",
            "Name: Polio, dtype: float64\n",
            "\n",
            "Total expenditure\n",
            "count    2232.000000\n",
            "mean        5.590694\n",
            "std         2.233756\n",
            "min         0.370000\n",
            "25%         4.140000\n",
            "50%         5.400000\n",
            "75%         6.830000\n",
            "max        17.240000\n",
            "Name: Total expenditure, dtype: float64\n",
            "\n",
            "Diphtheria\n",
            "count    2407.000000\n",
            "mean       79.951807\n",
            "std        24.834300\n",
            "min         2.000000\n",
            "25%        75.000000\n",
            "50%        91.000000\n",
            "75%        96.500000\n",
            "max        99.000000\n",
            "Name: Diphtheria, dtype: float64\n",
            "\n",
            "thinness  1-19 years\n",
            "count    2392.000000\n",
            "mean        5.592935\n",
            "std         4.514453\n",
            "min         0.100000\n",
            "25%         2.100000\n",
            "50%         4.500000\n",
            "75%         7.725000\n",
            "max        27.700000\n",
            "Name: thinness  1-19 years, dtype: float64\n",
            "\n",
            "thinness 5-9 years\n",
            "count    2392.000000\n",
            "mean        5.635242\n",
            "std         4.606130\n",
            "min         0.100000\n",
            "25%         2.100000\n",
            "50%         4.600000\n",
            "75%         7.800000\n",
            "max        28.600000\n",
            "Name: thinness 5-9 years, dtype: float64\n",
            "\n",
            "Income composition of resources\n",
            "count    2307.000000\n",
            "mean        0.582310\n",
            "std         0.201597\n",
            "min         0.000000\n",
            "25%         0.466500\n",
            "50%         0.631000\n",
            "75%         0.727000\n",
            "max         0.919000\n",
            "Name: Income composition of resources, dtype: float64\n",
            "\n",
            "Schooling\n",
            "count    2311.000000\n",
            "mean       11.219256\n",
            "std         3.056601\n",
            "min         0.000000\n",
            "25%         9.600000\n",
            "50%        11.700000\n",
            "75%        13.200000\n",
            "max        18.300000\n",
            "Name: Schooling, dtype: float64\n",
            "\n"
          ]
        }
      ]
    },
    {
      "cell_type": "code",
      "metadata": {
        "id": "YKPbxaDDa8CK",
        "colab": {
          "base_uri": "https://localhost:8080/"
        },
        "outputId": "4aca6966-7536-4d7c-e15f-2c5ded83cdc5"
      },
      "source": [
        "# Replace the missing values of the developing countries DataFrame with the median value of the respective columns.\n",
        "for i in d_null_col:\n",
        "  developing_df.loc[developing_df[i].isnull() == True, i] = developing_df[i].median()"
      ],
      "execution_count": null,
      "outputs": [
        {
          "output_type": "stream",
          "name": "stderr",
          "text": [
            "/usr/local/lib/python3.7/dist-packages/pandas/core/indexing.py:1817: SettingWithCopyWarning: \n",
            "A value is trying to be set on a copy of a slice from a DataFrame.\n",
            "Try using .loc[row_indexer,col_indexer] = value instead\n",
            "\n",
            "See the caveats in the documentation: https://pandas.pydata.org/pandas-docs/stable/user_guide/indexing.html#returning-a-view-versus-a-copy\n",
            "  self._setitem_single_column(loc, value, pi)\n"
          ]
        }
      ]
    },
    {
      "cell_type": "code",
      "metadata": {
        "id": "dMdWs1sKbE5N",
        "colab": {
          "base_uri": "https://localhost:8080/"
        },
        "outputId": "fca960ab-bb29-4548-f5dd-623b55539d88"
      },
      "source": [
        "# Again get a descriptive statistics summary of the DataFrame to verify that the replaced values did not disrupt the data\n",
        "for i in d_null_col:\n",
        "  print(i, developing_df[i].describe(), sep='\\n')\n",
        "  print()"
      ],
      "execution_count": null,
      "outputs": [
        {
          "output_type": "stream",
          "name": "stdout",
          "text": [
            "Life expectancy\n",
            "count    2426.000000\n",
            "mean       67.119250\n",
            "std         8.988318\n",
            "min        36.300000\n",
            "25%        61.100000\n",
            "50%        69.000000\n",
            "75%        74.000000\n",
            "max        89.000000\n",
            "Name: Life expectancy, dtype: float64\n",
            "\n",
            "Adult Mortality\n",
            "count    2426.000000\n",
            "mean      182.751443\n",
            "std       127.716744\n",
            "min         1.000000\n",
            "25%        92.250000\n",
            "50%       163.000000\n",
            "75%       252.750000\n",
            "max       723.000000\n",
            "Name: Adult Mortality, dtype: float64\n",
            "\n",
            "Alcohol\n",
            "count    2426.000000\n",
            "mean        3.420886\n",
            "std         3.239347\n",
            "min         0.010000\n",
            "25%         0.580000\n",
            "50%         2.560000\n",
            "75%         5.390000\n",
            "max        17.870000\n",
            "Name: Alcohol, dtype: float64\n",
            "\n",
            "BMI\n",
            "count    2426.000000\n",
            "mean       35.432028\n",
            "std        19.288454\n",
            "min         1.000000\n",
            "25%        18.400000\n",
            "50%        35.200000\n",
            "75%        53.075000\n",
            "max        87.300000\n",
            "Name: BMI, dtype: float64\n",
            "\n",
            "Polio\n",
            "count    2426.000000\n",
            "mean       80.255565\n",
            "std        24.593231\n",
            "min         3.000000\n",
            "25%        74.000000\n",
            "50%        91.000000\n",
            "75%        97.000000\n",
            "max        99.000000\n",
            "Name: Polio, dtype: float64\n",
            "\n",
            "Total expenditure\n",
            "count    2426.000000\n",
            "mean        5.575445\n",
            "std         2.143168\n",
            "min         0.370000\n",
            "25%         4.252500\n",
            "50%         5.400000\n",
            "75%         6.700000\n",
            "max        17.240000\n",
            "Name: Total expenditure, dtype: float64\n",
            "\n",
            "Diphtheria\n",
            "count    2426.000000\n",
            "mean       80.038335\n",
            "std        24.755992\n",
            "min         2.000000\n",
            "25%        75.000000\n",
            "50%        91.000000\n",
            "75%        96.000000\n",
            "max        99.000000\n",
            "Name: Diphtheria, dtype: float64\n",
            "\n",
            "thinness  1-19 years\n",
            "count    2426.000000\n",
            "mean        5.577617\n",
            "std         4.484535\n",
            "min         0.100000\n",
            "25%         2.100000\n",
            "50%         4.500000\n",
            "75%         7.700000\n",
            "max        27.700000\n",
            "Name: thinness  1-19 years, dtype: float64\n",
            "\n",
            "thinness 5-9 years\n",
            "count    2426.000000\n",
            "mean        5.620734\n",
            "std         4.575345\n",
            "min         0.100000\n",
            "25%         2.100000\n",
            "50%         4.600000\n",
            "75%         7.700000\n",
            "max        28.600000\n",
            "Name: thinness 5-9 years, dtype: float64\n",
            "\n",
            "Income composition of resources\n",
            "count    2426.000000\n",
            "mean        0.584698\n",
            "std         0.196869\n",
            "min         0.000000\n",
            "25%         0.475000\n",
            "50%         0.631000\n",
            "75%         0.722000\n",
            "max         0.919000\n",
            "Name: Income composition of resources, dtype: float64\n",
            "\n",
            "Schooling\n",
            "count    2426.000000\n",
            "mean       11.242045\n",
            "std         2.984994\n",
            "min         0.000000\n",
            "25%         9.700000\n",
            "50%        11.700000\n",
            "75%        13.100000\n",
            "max        18.300000\n",
            "Name: Schooling, dtype: float64\n",
            "\n"
          ]
        }
      ]
    },
    {
      "cell_type": "code",
      "metadata": {
        "id": "i4L10ILJLDUk",
        "colab": {
          "base_uri": "https://localhost:8080/"
        },
        "outputId": "0b5e976a-f269-4479-e6bb-7c079dfa7f65"
      },
      "source": [
        "# Again check whether there are any missing values\n",
        "developing_df.isnull().sum()"
      ],
      "execution_count": null,
      "outputs": [
        {
          "output_type": "execute_result",
          "data": {
            "text/plain": [
              "Country                            0\n",
              "Year                               0\n",
              "Status                             0\n",
              "Life expectancy                    0\n",
              "Adult Mortality                    0\n",
              "infant deaths                      0\n",
              "Alcohol                            0\n",
              "percentage expenditure             0\n",
              "Measles                            0\n",
              "BMI                                0\n",
              "under-five deaths                  0\n",
              "Polio                              0\n",
              "Total expenditure                  0\n",
              "Diphtheria                         0\n",
              "HIV/AIDS                           0\n",
              "thinness  1-19 years               0\n",
              "thinness 5-9 years                 0\n",
              "Income composition of resources    0\n",
              "Schooling                          0\n",
              "dtype: int64"
            ]
          },
          "metadata": {},
          "execution_count": 22
        }
      ]
    },
    {
      "cell_type": "markdown",
      "metadata": {
        "id": "-gNsMM1pn4Dl"
      },
      "source": [
        "---"
      ]
    },
    {
      "cell_type": "markdown",
      "metadata": {
        "id": "iTuc0PZabaqp"
      },
      "source": [
        "#### 4. Life Expectancy  w.r.t Year\n",
        "\n",
        "Find out whether the average age of death had increased globally in a period of 15 years i.e. from the year 2000 to 2015. Create a bar plot to depict this relationship."
      ]
    },
    {
      "cell_type": "code",
      "metadata": {
        "id": "uFPD0_1VbZeN",
        "colab": {
          "base_uri": "https://localhost:8080/",
          "height": 398
        },
        "outputId": "db455ce3-71c6-4ade-94ef-56f54144a6c4"
      },
      "source": [
        "# Life expectancy w.r.t Year using bar plot for developed countries\n",
        "plt.figure(figsize=(20, 7))\n",
        "plt.style.use('dark_background')\n",
        "sns.barplot(x='Year', y='Life expectancy', data=developed_df)\n",
        "plt.show()"
      ],
      "execution_count": null,
      "outputs": [
        {
          "output_type": "display_data",
          "data": {
            "text/plain": [
              "<Figure size 1440x504 with 1 Axes>"
            ],
            "image/png": "[encoded data removed]"
          },
          "metadata": {
            "needs_background": "dark"
          }
        }
      ]
    },
    {
      "cell_type": "code",
      "metadata": {
        "id": "ArhsmGBycXTG",
        "colab": {
          "base_uri": "https://localhost:8080/",
          "height": 398
        },
        "outputId": "4a8760ec-cda5-4ba4-d7e1-202f6ac9f8ee"
      },
      "source": [
        "# Life expectancy w.r.t Year using bar plot for developing countries\n",
        "plt.figure(figsize=(20, 7))\n",
        "plt.style.use('dark_background')\n",
        "sns.barplot(x='Year', y='Life expectancy', data=developing_df)\n",
        "plt.show()"
      ],
      "execution_count": null,
      "outputs": [
        {
          "output_type": "display_data",
          "data": {
            "text/plain": [
              "<Figure size 1440x504 with 1 Axes>"
            ],
            "image/png": "[encoded data removed]"
          },
          "metadata": {}
        }
      ]
    },
    {
      "cell_type": "markdown",
      "metadata": {
        "id": "RBZECrMaeXg_"
      },
      "source": [
        "**Q:** Do you find any increase in the average life expectancy over 15 years?\n",
        "\n",
        "**A:** Yes.\n",
        "\n",
        "**Q:** In which year, the average life expectancy was maximum?\n",
        "\n",
        "**A:** 2015"
      ]
    },
    {
      "cell_type": "markdown",
      "metadata": {
        "id": "7u3d8X9he8c5"
      },
      "source": [
        "---"
      ]
    },
    {
      "cell_type": "markdown",
      "metadata": {
        "id": "dCHlzsyge9th"
      },
      "source": [
        "#### 5. Developing versus Developed Countries\n",
        "\n",
        "Find out whether the people living in developing countries die early as compared to those living in developed countries."
      ]
    },
    {
      "cell_type": "code",
      "metadata": {
        "id": "IlmGGTNejvkn",
        "colab": {
          "base_uri": "https://localhost:8080/",
          "height": 398
        },
        "outputId": "8ef081c7-9800-476c-aab0-1f851311173e"
      },
      "source": [
        "# Create a barplot for yearly life expectancy of developing and developed countries in a single bar chart.\n",
        "plt.figure(figsize=(20, 7))\n",
        "plt.style.use('dark_background')\n",
        "sns.barplot(x='Year', y='Life expectancy', data=developed_df)\n",
        "sns.barplot(x='Year', y='Life expectancy', data=developing_df)\n",
        "plt.show()"
      ],
      "execution_count": null,
      "outputs": [
        {
          "output_type": "display_data",
          "data": {
            "text/plain": [
              "<Figure size 1440x504 with 1 Axes>"
            ],
            "image/png": "[encoded data removed]"
          },
          "metadata": {}
        }
      ]
    },
    {
      "cell_type": "code",
      "metadata": {
        "id": "p6xdc97yKaAS",
        "colab": {
          "base_uri": "https://localhost:8080/"
        },
        "outputId": "6fce8b4a-b0bb-44ca-a244-4f0f3ca26cf9"
      },
      "source": [
        "# Find the overall average life expectancy of developed and developing countries\n",
        "developed_avg_life = developed_df['Life expectancy'].mean()\n",
        "developing_avg_life = developing_df['Life expectancy'].mean()\n",
        "\n",
        "developed_avg_life, developing_avg_life"
      ],
      "execution_count": null,
      "outputs": [
        {
          "output_type": "execute_result",
          "data": {
            "text/plain": [
              "(79.19785156249996, 67.11924979389951)"
            ]
          },
          "metadata": {},
          "execution_count": 26
        }
      ]
    },
    {
      "cell_type": "markdown",
      "metadata": {
        "id": "g5OlyS0bkTu2"
      },
      "source": [
        "**Q:** Is there a huge difference in the average life expectancies of developing and developed countries?\n",
        "\n",
        "**A:** Yes"
      ]
    },
    {
      "cell_type": "markdown",
      "metadata": {
        "id": "KKn8vnvyklrp"
      },
      "source": [
        "---"
      ]
    },
    {
      "cell_type": "markdown",
      "metadata": {
        "id": "PPItm0BrOJ0R"
      },
      "source": [
        "#### 6. Probability Distribution of Life Expectancy\n",
        "\n",
        "Let us find out how many developing countries had extremely low life expectancy in the year 2015. Perform the following tasks:\n",
        "- Create a line plot for the life expectancy of developing countries for the year 2015 with life expectancy on the X-axis and their corresponding probability densities on the Y-axis.\n",
        "\n",
        "- Also, find out how many developing countries had extremely low life expectancy i.e. below 60 in the year 2015. Use $Z$-score and `cdf()` function to find the probability of the random variable $X \\le 60$.\n",
        "\n",
        "- List down the names of the developing countries that had a life expectancy below 60 years in the year 2015.\n",
        "\n",
        "\n",
        "**Note:** Instead of applying the `cdf()` function, you can also use `integrate` module of the `scipy` package.\n"
      ]
    },
    {
      "cell_type": "code",
      "metadata": {
        "id": "TVcejg4r8t7L"
      },
      "source": [
        "# Create a Python function to calculate the individual probabilities of all the life expectancies\n",
        "def probility(series, mean, std):\n",
        "  prob_list = []\n",
        "  for x in series:\n",
        "    p = 1 / (std * (np.sqrt(2*np.pi)))\n",
        "    e = np.exp((-1 / 2) * ((x-mean)/std) ** 2)\n",
        "    prob_den = p * e\n",
        "    prob_list.append(prob_den)\n",
        "\n",
        "  return pd.Series(prob_list)"
      ],
      "execution_count": null,
      "outputs": []
    },
    {
      "cell_type": "code",
      "metadata": {
        "id": "to9gzAplaeVV",
        "colab": {
          "base_uri": "https://localhost:8080/",
          "height": 340
        },
        "outputId": "c0754bef-ff9c-4f7c-ab39-28d4f960f0ed"
      },
      "source": [
        "# Create a DataFrame of developing countries for year 2015\n",
        "developing_2015 = developing_df[developing_df['Year'] == 2015]\n",
        "developing_2015.head()"
      ],
      "execution_count": null,
      "outputs": [
        {
          "output_type": "execute_result",
          "data": {
            "text/plain": [
              "                Country  Year      Status  Life expectancy  Adult Mortality  \\\n",
              "0           Afghanistan  2015  Developing             65.0            263.0   \n",
              "16              Albania  2015  Developing             77.8             74.0   \n",
              "32              Algeria  2015  Developing             75.6             19.0   \n",
              "48               Angola  2015  Developing             52.4            335.0   \n",
              "64  Antigua and Barbuda  2015  Developing             76.4             13.0   \n",
              "\n",
              "    infant deaths  Alcohol  percentage expenditure  Measles   BMI  \\\n",
              "0              62     0.01               71.279624     1154  19.1   \n",
              "16              0     4.60              364.975229        0  58.0   \n",
              "32             21     2.56                0.000000       63  59.5   \n",
              "48             66     2.56                0.000000      118  23.3   \n",
              "64              0     2.56                0.000000        0  47.7   \n",
              "\n",
              "    under-five deaths  Polio  Total expenditure  Diphtheria  HIV/AIDS  \\\n",
              "0                  83    6.0               8.16        65.0       0.1   \n",
              "16                  0   99.0               6.00        99.0       0.1   \n",
              "32                 24   95.0               5.40        95.0       0.1   \n",
              "48                 98    7.0               5.40        64.0       1.9   \n",
              "64                  0   86.0               5.40        99.0       0.2   \n",
              "\n",
              "    thinness  1-19 years  thinness 5-9 years  Income composition of resources  \\\n",
              "0                   17.2                17.3                            0.479   \n",
              "16                   1.2                 1.3                            0.762   \n",
              "32                   6.0                 5.8                            0.743   \n",
              "48                   8.3                 8.2                            0.531   \n",
              "64                   3.3                 3.3                            0.784   \n",
              "\n",
              "    Schooling  \n",
              "0        10.1  \n",
              "16       14.2  \n",
              "32       14.4  \n",
              "48       11.4  \n",
              "64       13.9  "
            ],
            "text/html": [
              "\n",
              "  <div id=\"df-552a924d-a8bc-47f9-b9c4-993078a4fc28\">\n",
              "    <div class=\"colab-df-container\">\n",
              "      <div>\n",
              "<style scoped>\n",
              "    .dataframe tbody tr th:only-of-type {\n",
              "        vertical-align: middle;\n",
              "    }\n",
              "\n",
              "    .dataframe tbody tr th {\n",
              "        vertical-align: top;\n",
              "    }\n",
              "\n",
              "    .dataframe thead th {\n",
              "        text-align: right;\n",
              "    }\n",
              "</style>\n",
              "<table border=\"1\" class=\"dataframe\">\n",
              "  <thead>\n",
              "    <tr style=\"text-align: right;\">\n",
              "      <th></th>\n",
              "      <th>Country</th>\n",
              "      <th>Year</th>\n",
              "      <th>Status</th>\n",
              "      <th>Life expectancy</th>\n",
              "      <th>Adult Mortality</th>\n",
              "      <th>infant deaths</th>\n",
              "      <th>Alcohol</th>\n",
              "      <th>percentage expenditure</th>\n",
              "      <th>Measles</th>\n",
              "      <th>BMI</th>\n",
              "      <th>under-five deaths</th>\n",
              "      <th>Polio</th>\n",
              "      <th>Total expenditure</th>\n",
              "      <th>Diphtheria</th>\n",
              "      <th>HIV/AIDS</th>\n",
              "      <th>thinness  1-19 years</th>\n",
              "      <th>thinness 5-9 years</th>\n",
              "      <th>Income composition of resources</th>\n",
              "      <th>Schooling</th>\n",
              "    </tr>\n",
              "  </thead>\n",
              "  <tbody>\n",
              "    <tr>\n",
              "      <th>0</th>\n",
              "      <td>Afghanistan</td>\n",
              "      <td>2015</td>\n",
              "      <td>Developing</td>\n",
              "      <td>65.0</td>\n",
              "      <td>263.0</td>\n",
              "      <td>62</td>\n",
              "      <td>0.01</td>\n",
              "      <td>71.279624</td>\n",
              "      <td>1154</td>\n",
              "      <td>19.1</td>\n",
              "      <td>83</td>\n",
              "      <td>6.0</td>\n",
              "      <td>8.16</td>\n",
              "      <td>65.0</td>\n",
              "      <td>0.1</td>\n",
              "      <td>17.2</td>\n",
              "      <td>17.3</td>\n",
              "      <td>0.479</td>\n",
              "      <td>10.1</td>\n",
              "    </tr>\n",
              "    <tr>\n",
              "      <th>16</th>\n",
              "      <td>Albania</td>\n",
              "      <td>2015</td>\n",
              "      <td>Developing</td>\n",
              "      <td>77.8</td>\n",
              "      <td>74.0</td>\n",
              "      <td>0</td>\n",
              "      <td>4.60</td>\n",
              "      <td>364.975229</td>\n",
              "      <td>0</td>\n",
              "      <td>58.0</td>\n",
              "      <td>0</td>\n",
              "      <td>99.0</td>\n",
              "      <td>6.00</td>\n",
              "      <td>99.0</td>\n",
              "      <td>0.1</td>\n",
              "      <td>1.2</td>\n",
              "      <td>1.3</td>\n",
              "      <td>0.762</td>\n",
              "      <td>14.2</td>\n",
              "    </tr>\n",
              "    <tr>\n",
              "      <th>32</th>\n",
              "      <td>Algeria</td>\n",
              "      <td>2015</td>\n",
              "      <td>Developing</td>\n",
              "      <td>75.6</td>\n",
              "      <td>19.0</td>\n",
              "      <td>21</td>\n",
              "      <td>2.56</td>\n",
              "      <td>0.000000</td>\n",
              "      <td>63</td>\n",
              "      <td>59.5</td>\n",
              "      <td>24</td>\n",
              "      <td>95.0</td>\n",
              "      <td>5.40</td>\n",
              "      <td>95.0</td>\n",
              "      <td>0.1</td>\n",
              "      <td>6.0</td>\n",
              "      <td>5.8</td>\n",
              "      <td>0.743</td>\n",
              "      <td>14.4</td>\n",
              "    </tr>\n",
              "    <tr>\n",
              "      <th>48</th>\n",
              "      <td>Angola</td>\n",
              "      <td>2015</td>\n",
              "      <td>Developing</td>\n",
              "      <td>52.4</td>\n",
              "      <td>335.0</td>\n",
              "      <td>66</td>\n",
              "      <td>2.56</td>\n",
              "      <td>0.000000</td>\n",
              "      <td>118</td>\n",
              "      <td>23.3</td>\n",
              "      <td>98</td>\n",
              "      <td>7.0</td>\n",
              "      <td>5.40</td>\n",
              "      <td>64.0</td>\n",
              "      <td>1.9</td>\n",
              "      <td>8.3</td>\n",
              "      <td>8.2</td>\n",
              "      <td>0.531</td>\n",
              "      <td>11.4</td>\n",
              "    </tr>\n",
              "    <tr>\n",
              "      <th>64</th>\n",
              "      <td>Antigua and Barbuda</td>\n",
              "      <td>2015</td>\n",
              "      <td>Developing</td>\n",
              "      <td>76.4</td>\n",
              "      <td>13.0</td>\n",
              "      <td>0</td>\n",
              "      <td>2.56</td>\n",
              "      <td>0.000000</td>\n",
              "      <td>0</td>\n",
              "      <td>47.7</td>\n",
              "      <td>0</td>\n",
              "      <td>86.0</td>\n",
              "      <td>5.40</td>\n",
              "      <td>99.0</td>\n",
              "      <td>0.2</td>\n",
              "      <td>3.3</td>\n",
              "      <td>3.3</td>\n",
              "      <td>0.784</td>\n",
              "      <td>13.9</td>\n",
              "    </tr>\n",
              "  </tbody>\n",
              "</table>\n",
              "</div>\n",
              "      <button class=\"colab-df-convert\" onclick=\"convertToInteractive('df-552a924d-a8bc-47f9-b9c4-993078a4fc28')\"\n",
              "              title=\"Convert this dataframe to an interactive table.\"\n",
              "              style=\"display:none;\">\n",
              "        \n",
              "  <svg xmlns=\"http://www.w3.org/2000/svg\" height=\"24px\"viewBox=\"0 0 24 24\"\n",
              "       width=\"24px\">\n",
              "    <path d=\"M0 0h24v24H0V0z\" fill=\"none\"/>\n",
              "    <path d=\"M18.56 5.44l.94 2.06.94-2.06 2.06-.94-2.06-.94-.94-2.06-.94 2.06-2.06.94zm-11 1L8.5 8.5l.94-2.06 2.06-.94-2.06-.94L8.5 2.5l-.94 2.06-2.06.94zm10 10l.94 2.06.94-2.06 2.06-.94-2.06-.94-.94-2.06-.94 2.06-2.06.94z\"/><path d=\"M17.41 7.96l-1.37-1.37c-.4-.4-.92-.59-1.43-.59-.52 0-1.04.2-1.43.59L10.3 9.45l-7.72 7.72c-.78.78-.78 2.05 0 2.83L4 21.41c.39.39.9.59 1.41.59.51 0 1.02-.2 1.41-.59l7.78-7.78 2.81-2.81c.8-.78.8-2.07 0-2.86zM5.41 20L4 18.59l7.72-7.72 1.47 1.35L5.41 20z\"/>\n",
              "  </svg>\n",
              "      </button>\n",
              "      \n",
              "  <style>\n",
              "    .colab-df-container {\n",
              "      display:flex;\n",
              "      flex-wrap:wrap;\n",
              "      gap: 12px;\n",
              "    }\n",
              "\n",
              "    .colab-df-convert {\n",
              "      background-color: #E8F0FE;\n",
              "      border: none;\n",
              "      border-radius: 50%;\n",
              "      cursor: pointer;\n",
              "      display: none;\n",
              "      fill: #1967D2;\n",
              "      height: 32px;\n",
              "      padding: 0 0 0 0;\n",
              "      width: 32px;\n",
              "    }\n",
              "\n",
              "    .colab-df-convert:hover {\n",
              "      background-color: #E2EBFA;\n",
              "      box-shadow: 0px 1px 2px rgba(60, 64, 67, 0.3), 0px 1px 3px 1px rgba(60, 64, 67, 0.15);\n",
              "      fill: #174EA6;\n",
              "    }\n",
              "\n",
              "    [theme=dark] .colab-df-convert {\n",
              "      background-color: #3B4455;\n",
              "      fill: #D2E3FC;\n",
              "    }\n",
              "\n",
              "    [theme=dark] .colab-df-convert:hover {\n",
              "      background-color: #434B5C;\n",
              "      box-shadow: 0px 1px 3px 1px rgba(0, 0, 0, 0.15);\n",
              "      filter: drop-shadow(0px 1px 2px rgba(0, 0, 0, 0.3));\n",
              "      fill: #FFFFFF;\n",
              "    }\n",
              "  </style>\n",
              "\n",
              "      <script>\n",
              "        const buttonEl =\n",
              "          document.querySelector('#df-552a924d-a8bc-47f9-b9c4-993078a4fc28 button.colab-df-convert');\n",
              "        buttonEl.style.display =\n",
              "          google.colab.kernel.accessAllowed ? 'block' : 'none';\n",
              "\n",
              "        async function convertToInteractive(key) {\n",
              "          const element = document.querySelector('#df-552a924d-a8bc-47f9-b9c4-993078a4fc28');\n",
              "          const dataTable =\n",
              "            await google.colab.kernel.invokeFunction('convertToInteractive',\n",
              "                                                     [key], {});\n",
              "          if (!dataTable) return;\n",
              "\n",
              "          const docLinkHtml = 'Like what you see? Visit the ' +\n",
              "            '<a target=\"_blank\" href=https://colab.research.google.com/notebooks/data_table.ipynb>data table notebook</a>'\n",
              "            + ' to learn more about interactive tables.';\n",
              "          element.innerHTML = '';\n",
              "          dataTable['output_type'] = 'display_data';\n",
              "          await google.colab.output.renderOutput(dataTable, element);\n",
              "          const docLink = document.createElement('div');\n",
              "          docLink.innerHTML = docLinkHtml;\n",
              "          element.appendChild(docLink);\n",
              "        }\n",
              "      </script>\n",
              "    </div>\n",
              "  </div>\n",
              "  "
            ]
          },
          "metadata": {},
          "execution_count": 28
        }
      ]
    },
    {
      "cell_type": "code",
      "metadata": {
        "id": "_BL70k_664RC",
        "colab": {
          "base_uri": "https://localhost:8080/",
          "height": 395
        },
        "outputId": "9d291f28-6469-4bd4-af9e-fff479931499"
      },
      "source": [
        "# Plot the probability distribution of life expectancy of developing countries for the year 2015. Also, fill the area for X < 60.\n",
        "\n",
        "developing_2015_Life = developing_2015['Life expectancy']\n",
        "developing_2015_Life_sort = developing_2015_Life.sort_values()\n",
        "prob60 = probility(np.arange(developing_2015_Life.min(), 60), developing_2015_Life.mean(), developing_2015_Life.std())\n",
        "df_prob = probility(developing_2015_Life_sort, developing_2015_Life.mean(), developing_2015_Life.std())\n",
        "\n",
        "plt.style.use('dark_background')\n",
        "plt.figure(figsize=(20,7))\n",
        "plt.plot(developing_2015_Life_sort, df_prob)\n",
        "plt.fill_between(x=np.arange(developing_2015_Life_sort.min(), 60), y1=prob60, facecolor='green')\n",
        "plt.axvline(60, color='r')\n",
        "plt.xlabel('Year')\n",
        "plt.ylabel('Probility')\n",
        "plt.show()"
      ],
      "execution_count": null,
      "outputs": [
        {
          "output_type": "display_data",
          "data": {
            "text/plain": [
              "<Figure size 1440x504 with 1 Axes>"
            ],
            "image/png": "[encoded data removed]"
          },
          "metadata": {}
        }
      ]
    },
    {
      "cell_type": "code",
      "metadata": {
        "id": "VHmYjkK_BnzZ",
        "colab": {
          "base_uri": "https://localhost:8080/"
        },
        "outputId": "5688fe87-00a4-4be4-9d9d-14ecfde5193a"
      },
      "source": [
        "# Calculate Z-score of 60 and find P(X < 60) by applying 'cdf()' function\n",
        "z = (60 - developing_2015_Life.mean()) / developing_2015_Life.std()\n",
        "prob = scipy.stats.norm.cdf(z)\n",
        "prob"
      ],
      "execution_count": null,
      "outputs": [
        {
          "output_type": "execute_result",
          "data": {
            "text/plain": [
              "0.09812579790208309"
            ]
          },
          "metadata": {},
          "execution_count": 30
        }
      ]
    },
    {
      "cell_type": "markdown",
      "metadata": {
        "id": "5XwkVEa0NPDP"
      },
      "source": [
        "\n",
        "\n",
        "**Q:** How much percentage of developing countries had extremely low life expectancy in the year 2015?\n",
        "\n",
        "**A:** 9.8\n",
        "\n"
      ]
    },
    {
      "cell_type": "code",
      "metadata": {
        "id": "u85EFiH2P-2D",
        "colab": {
          "base_uri": "https://localhost:8080/"
        },
        "outputId": "e3b40e05-7c61-4483-f66b-00f7ea797e46"
      },
      "source": [
        "# List down the name of the countries having life expectancy below 60 in the year 2015\n",
        "x=list(developing_2015.loc[developing_2015['Life expectancy'] > 60, 'Country'])\n",
        "x\n"
      ],
      "execution_count": null,
      "outputs": [
        {
          "output_type": "execute_result",
          "data": {
            "text/plain": [
              "['Afghanistan',\n",
              " 'Albania',\n",
              " 'Algeria',\n",
              " 'Antigua and Barbuda',\n",
              " 'Argentina',\n",
              " 'Armenia',\n",
              " 'Azerbaijan',\n",
              " 'Bahamas',\n",
              " 'Bahrain',\n",
              " 'Bangladesh',\n",
              " 'Barbados',\n",
              " 'Belarus',\n",
              " 'Belize',\n",
              " 'Bhutan',\n",
              " 'Bolivia (Plurinational State of)',\n",
              " 'Bosnia and Herzegovina',\n",
              " 'Botswana',\n",
              " 'Brazil',\n",
              " 'Brunei Darussalam',\n",
              " 'Cabo Verde',\n",
              " 'Cambodia',\n",
              " 'Canada',\n",
              " 'Chile',\n",
              " 'China',\n",
              " 'Colombia',\n",
              " 'Comoros',\n",
              " 'Congo',\n",
              " 'Costa Rica',\n",
              " 'Cuba',\n",
              " \"Democratic People's Republic of Korea\",\n",
              " 'Djibouti',\n",
              " 'Dominican Republic',\n",
              " 'Ecuador',\n",
              " 'Egypt',\n",
              " 'El Salvador',\n",
              " 'Eritrea',\n",
              " 'Estonia',\n",
              " 'Ethiopia',\n",
              " 'Fiji',\n",
              " 'Finland',\n",
              " 'France',\n",
              " 'Gabon',\n",
              " 'Gambia',\n",
              " 'Georgia',\n",
              " 'Ghana',\n",
              " 'Greece',\n",
              " 'Grenada',\n",
              " 'Guatemala',\n",
              " 'Guyana',\n",
              " 'Haiti',\n",
              " 'Honduras',\n",
              " 'India',\n",
              " 'Indonesia',\n",
              " 'Iran (Islamic Republic of)',\n",
              " 'Iraq',\n",
              " 'Israel',\n",
              " 'Jamaica',\n",
              " 'Jordan',\n",
              " 'Kazakhstan',\n",
              " 'Kenya',\n",
              " 'Kiribati',\n",
              " 'Kuwait',\n",
              " 'Kyrgyzstan',\n",
              " \"Lao People's Democratic Republic\",\n",
              " 'Lebanon',\n",
              " 'Liberia',\n",
              " 'Libya',\n",
              " 'Madagascar',\n",
              " 'Malaysia',\n",
              " 'Maldives',\n",
              " 'Mauritania',\n",
              " 'Mauritius',\n",
              " 'Mexico',\n",
              " 'Micronesia (Federated States of)',\n",
              " 'Mongolia',\n",
              " 'Montenegro',\n",
              " 'Morocco',\n",
              " 'Myanmar',\n",
              " 'Namibia',\n",
              " 'Nepal',\n",
              " 'Nicaragua',\n",
              " 'Niger',\n",
              " 'Oman',\n",
              " 'Pakistan',\n",
              " 'Panama',\n",
              " 'Papua New Guinea',\n",
              " 'Paraguay',\n",
              " 'Peru',\n",
              " 'Philippines',\n",
              " 'Qatar',\n",
              " 'Republic of Korea',\n",
              " 'Republic of Moldova',\n",
              " 'Russian Federation',\n",
              " 'Rwanda',\n",
              " 'Saint Lucia',\n",
              " 'Saint Vincent and the Grenadines',\n",
              " 'Samoa',\n",
              " 'Sao Tome and Principe',\n",
              " 'Saudi Arabia',\n",
              " 'Senegal',\n",
              " 'Serbia',\n",
              " 'Seychelles',\n",
              " 'Solomon Islands',\n",
              " 'South Africa',\n",
              " 'Sri Lanka',\n",
              " 'Sudan',\n",
              " 'Suriname',\n",
              " 'Syrian Arab Republic',\n",
              " 'Tajikistan',\n",
              " 'Thailand',\n",
              " 'The former Yugoslav republic of Macedonia',\n",
              " 'Timor-Leste',\n",
              " 'Tonga',\n",
              " 'Trinidad and Tobago',\n",
              " 'Tunisia',\n",
              " 'Turkey',\n",
              " 'Turkmenistan',\n",
              " 'Uganda',\n",
              " 'Ukraine',\n",
              " 'United Arab Emirates',\n",
              " 'United Republic of Tanzania',\n",
              " 'Uruguay',\n",
              " 'Uzbekistan',\n",
              " 'Vanuatu',\n",
              " 'Venezuela (Bolivarian Republic of)',\n",
              " 'Viet Nam',\n",
              " 'Yemen',\n",
              " 'Zambia',\n",
              " 'Zimbabwe']"
            ]
          },
          "metadata": {},
          "execution_count": 31
        }
      ]
    },
    {
      "cell_type": "markdown",
      "metadata": {
        "id": "AgX4YNVybwlh"
      },
      "source": [
        "**Q:** Which country had the lowest life expectancy in the year 2015?\n",
        "\n",
        "**A:**Angola has the lowest life expentency as he is having expectency of 52.4 and is lowest in the chart according the life expectancy."
      ]
    },
    {
      "cell_type": "code",
      "metadata": {
        "colab": {
          "base_uri": "https://localhost:8080/",
          "height": 963
        },
        "id": "X0W0iQHapjlB",
        "outputId": "7896a35d-242e-4e13-e467-edb618462529"
      },
      "source": [
        "x = developing_2015[developing_2015['Life expectancy']<60]\n",
        "x"
      ],
      "execution_count": null,
      "outputs": [
        {
          "output_type": "execute_result",
          "data": {
            "text/plain": [
              "                               Country  Year      Status  Life expectancy  \\\n",
              "48                              Angola  2015  Developing             52.4   \n",
              "400                       Burkina Faso  2015  Developing             59.9   \n",
              "416                            Burundi  2015  Developing             59.6   \n",
              "432                      Côte d'Ivoire  2015  Developing             53.3   \n",
              "480                           Cameroon  2015  Developing             57.3   \n",
              "512           Central African Republic  2015  Developing             52.5   \n",
              "528                               Chad  2015  Developing             53.1   \n",
              "721   Democratic Republic of the Congo  2015  Developing             59.8   \n",
              "834                  Equatorial Guinea  2015  Developing             58.2   \n",
              "1074                            Guinea  2015  Developing             59.0   \n",
              "1090                     Guinea-Bissau  2015  Developing             58.9   \n",
              "1474                           Lesotho  2015  Developing             53.7   \n",
              "1570                            Malawi  2015  Developing             58.3   \n",
              "1618                              Mali  2015  Developing             58.2   \n",
              "1764                        Mozambique  2015  Developing             57.6   \n",
              "1893                           Nigeria  2015  Developing             54.5   \n",
              "2297                      Sierra Leone  2015  Developing             51.0   \n",
              "2377                           Somalia  2015  Developing             55.0   \n",
              "2409                       South Sudan  2015  Developing             57.3   \n",
              "2489                         Swaziland  2015  Developing             58.9   \n",
              "2617                              Togo  2015  Developing             59.9   \n",
              "\n",
              "      Adult Mortality  infant deaths  Alcohol  percentage expenditure  \\\n",
              "48              335.0             66     2.56                     0.0   \n",
              "400              26.0             38     2.56                     0.0   \n",
              "416             288.0             21     2.56                     0.0   \n",
              "432             397.0             57     2.56                     0.0   \n",
              "480             357.0             45     2.56                     0.0   \n",
              "512             397.0             15     2.56                     0.0   \n",
              "528             356.0             46     2.56                     0.0   \n",
              "721             258.0            236     2.56                     0.0   \n",
              "834              32.0              3     2.56                     0.0   \n",
              "1074            284.0             26     2.56                     0.0   \n",
              "1090            275.0              4     2.56                     0.0   \n",
              "1474            484.0              4     2.56                     0.0   \n",
              "1570            365.0             26     2.56                     0.0   \n",
              "1618            266.0             52     2.56                     0.0   \n",
              "1764            355.0             60     2.56                     0.0   \n",
              "1893            344.0            483     2.56                     0.0   \n",
              "2297            413.0             22     2.56                     0.0   \n",
              "2377            312.0             50     2.56                     0.0   \n",
              "2409            332.0             26     2.56                     0.0   \n",
              "2489            373.0              2     2.56                     0.0   \n",
              "2617            287.0             13     2.56                     0.0   \n",
              "\n",
              "      Measles   BMI  under-five deaths  Polio  Total expenditure  Diphtheria  \\\n",
              "48        118  23.3                 98    7.0                5.4        64.0   \n",
              "400        99  19.4                 61   91.0                5.4        91.0   \n",
              "416         9  18.7                 31   94.0                5.4        94.0   \n",
              "432        65  28.0                 79   81.0                5.4        83.0   \n",
              "480      1809  29.0                 68   83.0                5.4        84.0   \n",
              "512       150  22.7                 21   47.0                5.4        47.0   \n",
              "528       418  19.1                 77   52.0                5.4        46.0   \n",
              "721      5020  21.6                308   78.0                5.4        81.0   \n",
              "834      1250  24.5                  4   17.0                5.4        16.0   \n",
              "1074      243  23.3                 40   42.0                5.4        54.0   \n",
              "1090      153  26.3                  6   87.0                5.4        87.0   \n",
              "1474        0  32.6                  6    9.0                5.4        93.0   \n",
              "1570        0  19.6                 38   88.0                5.4        88.0   \n",
              "1618      215  23.8                 84   66.0                5.4        64.0   \n",
              "1764       79  22.6                 81    8.0                5.4         8.0   \n",
              "1893    12423  25.4                747   49.0                5.4        49.0   \n",
              "2297      607  24.4                 30   86.0                5.4        86.0   \n",
              "2377     7497  24.3                 80   47.0                5.4        42.0   \n",
              "2409      878  35.2                 39   41.0                5.4        31.0   \n",
              "2489        0  32.3                  3   84.0                5.4         9.0   \n",
              "2617       20  24.3                 20   88.0                5.4        88.0   \n",
              "\n",
              "      HIV/AIDS  thinness  1-19 years  thinness 5-9 years  \\\n",
              "48         1.9                   8.3                 8.2   \n",
              "400        0.6                   8.0                 7.5   \n",
              "416        0.7                   7.3                 7.2   \n",
              "432        1.9                   5.5                 5.5   \n",
              "480        3.5                   5.6                 5.5   \n",
              "512        4.4                   8.2                 8.2   \n",
              "528        2.8                   8.5                 8.4   \n",
              "721        1.1                   9.5                 9.3   \n",
              "834        4.2                   8.4                 8.3   \n",
              "1074       0.5                   7.3                 7.3   \n",
              "1090       3.2                   7.1                 7.0   \n",
              "1474       9.3                   5.5                 5.3   \n",
              "1570       4.8                   6.4                 6.2   \n",
              "1618       1.5                   7.7                 7.5   \n",
              "1764       3.9                   3.6                 3.5   \n",
              "1893       3.7                   9.8                 9.7   \n",
              "2297       0.5                   7.4                 7.3   \n",
              "2377       0.7                   6.6                 6.4   \n",
              "2409       3.4                   4.5                 4.6   \n",
              "2489       7.1                   4.0                 4.1   \n",
              "2617       1.0                   6.5                 6.2   \n",
              "\n",
              "      Income composition of resources  Schooling  \n",
              "48                              0.531       11.4  \n",
              "400                             0.399        7.7  \n",
              "416                             0.406       10.6  \n",
              "432                             0.631       11.7  \n",
              "480                             0.514       10.4  \n",
              "512                             0.347        7.1  \n",
              "528                             0.394        7.3  \n",
              "721                             0.631       11.7  \n",
              "834                             0.582        9.2  \n",
              "1074                            0.414        8.8  \n",
              "1090                            0.421        9.2  \n",
              "1474                            0.495       10.7  \n",
              "1570                            0.473       10.8  \n",
              "1618                            0.438        8.4  \n",
              "1764                            0.414        9.1  \n",
              "1893                            0.525       10.0  \n",
              "2297                            0.431        9.5  \n",
              "2377                            0.631       11.7  \n",
              "2409                            0.421        4.9  \n",
              "2489                            0.541       11.4  \n",
              "2617                            0.484       12.0  "
            ],
            "text/html": [
              "\n",
              "  <div id=\"df-3ace408b-98c0-4695-9395-62443b6f2200\">\n",
              "    <div class=\"colab-df-container\">\n",
              "      <div>\n",
              "<style scoped>\n",
              "    .dataframe tbody tr th:only-of-type {\n",
              "        vertical-align: middle;\n",
              "    }\n",
              "\n",
              "    .dataframe tbody tr th {\n",
              "        vertical-align: top;\n",
              "    }\n",
              "\n",
              "    .dataframe thead th {\n",
              "        text-align: right;\n",
              "    }\n",
              "</style>\n",
              "<table border=\"1\" class=\"dataframe\">\n",
              "  <thead>\n",
              "    <tr style=\"text-align: right;\">\n",
              "      <th></th>\n",
              "      <th>Country</th>\n",
              "      <th>Year</th>\n",
              "      <th>Status</th>\n",
              "      <th>Life expectancy</th>\n",
              "      <th>Adult Mortality</th>\n",
              "      <th>infant deaths</th>\n",
              "      <th>Alcohol</th>\n",
              "      <th>percentage expenditure</th>\n",
              "      <th>Measles</th>\n",
              "      <th>BMI</th>\n",
              "      <th>under-five deaths</th>\n",
              "      <th>Polio</th>\n",
              "      <th>Total expenditure</th>\n",
              "      <th>Diphtheria</th>\n",
              "      <th>HIV/AIDS</th>\n",
              "      <th>thinness  1-19 years</th>\n",
              "      <th>thinness 5-9 years</th>\n",
              "      <th>Income composition of resources</th>\n",
              "      <th>Schooling</th>\n",
              "    </tr>\n",
              "  </thead>\n",
              "  <tbody>\n",
              "    <tr>\n",
              "      <th>48</th>\n",
              "      <td>Angola</td>\n",
              "      <td>2015</td>\n",
              "      <td>Developing</td>\n",
              "      <td>52.4</td>\n",
              "      <td>335.0</td>\n",
              "      <td>66</td>\n",
              "      <td>2.56</td>\n",
              "      <td>0.0</td>\n",
              "      <td>118</td>\n",
              "      <td>23.3</td>\n",
              "      <td>98</td>\n",
              "      <td>7.0</td>\n",
              "      <td>5.4</td>\n",
              "      <td>64.0</td>\n",
              "      <td>1.9</td>\n",
              "      <td>8.3</td>\n",
              "      <td>8.2</td>\n",
              "      <td>0.531</td>\n",
              "      <td>11.4</td>\n",
              "    </tr>\n",
              "    <tr>\n",
              "      <th>400</th>\n",
              "      <td>Burkina Faso</td>\n",
              "      <td>2015</td>\n",
              "      <td>Developing</td>\n",
              "      <td>59.9</td>\n",
              "      <td>26.0</td>\n",
              "      <td>38</td>\n",
              "      <td>2.56</td>\n",
              "      <td>0.0</td>\n",
              "      <td>99</td>\n",
              "      <td>19.4</td>\n",
              "      <td>61</td>\n",
              "      <td>91.0</td>\n",
              "      <td>5.4</td>\n",
              "      <td>91.0</td>\n",
              "      <td>0.6</td>\n",
              "      <td>8.0</td>\n",
              "      <td>7.5</td>\n",
              "      <td>0.399</td>\n",
              "      <td>7.7</td>\n",
              "    </tr>\n",
              "    <tr>\n",
              "      <th>416</th>\n",
              "      <td>Burundi</td>\n",
              "      <td>2015</td>\n",
              "      <td>Developing</td>\n",
              "      <td>59.6</td>\n",
              "      <td>288.0</td>\n",
              "      <td>21</td>\n",
              "      <td>2.56</td>\n",
              "      <td>0.0</td>\n",
              "      <td>9</td>\n",
              "      <td>18.7</td>\n",
              "      <td>31</td>\n",
              "      <td>94.0</td>\n",
              "      <td>5.4</td>\n",
              "      <td>94.0</td>\n",
              "      <td>0.7</td>\n",
              "      <td>7.3</td>\n",
              "      <td>7.2</td>\n",
              "      <td>0.406</td>\n",
              "      <td>10.6</td>\n",
              "    </tr>\n",
              "    <tr>\n",
              "      <th>432</th>\n",
              "      <td>Côte d'Ivoire</td>\n",
              "      <td>2015</td>\n",
              "      <td>Developing</td>\n",
              "      <td>53.3</td>\n",
              "      <td>397.0</td>\n",
              "      <td>57</td>\n",
              "      <td>2.56</td>\n",
              "      <td>0.0</td>\n",
              "      <td>65</td>\n",
              "      <td>28.0</td>\n",
              "      <td>79</td>\n",
              "      <td>81.0</td>\n",
              "      <td>5.4</td>\n",
              "      <td>83.0</td>\n",
              "      <td>1.9</td>\n",
              "      <td>5.5</td>\n",
              "      <td>5.5</td>\n",
              "      <td>0.631</td>\n",
              "      <td>11.7</td>\n",
              "    </tr>\n",
              "    <tr>\n",
              "      <th>480</th>\n",
              "      <td>Cameroon</td>\n",
              "      <td>2015</td>\n",
              "      <td>Developing</td>\n",
              "      <td>57.3</td>\n",
              "      <td>357.0</td>\n",
              "      <td>45</td>\n",
              "      <td>2.56</td>\n",
              "      <td>0.0</td>\n",
              "      <td>1809</td>\n",
              "      <td>29.0</td>\n",
              "      <td>68</td>\n",
              "      <td>83.0</td>\n",
              "      <td>5.4</td>\n",
              "      <td>84.0</td>\n",
              "      <td>3.5</td>\n",
              "      <td>5.6</td>\n",
              "      <td>5.5</td>\n",
              "      <td>0.514</td>\n",
              "      <td>10.4</td>\n",
              "    </tr>\n",
              "    <tr>\n",
              "      <th>512</th>\n",
              "      <td>Central African Republic</td>\n",
              "      <td>2015</td>\n",
              "      <td>Developing</td>\n",
              "      <td>52.5</td>\n",
              "      <td>397.0</td>\n",
              "      <td>15</td>\n",
              "      <td>2.56</td>\n",
              "      <td>0.0</td>\n",
              "      <td>150</td>\n",
              "      <td>22.7</td>\n",
              "      <td>21</td>\n",
              "      <td>47.0</td>\n",
              "      <td>5.4</td>\n",
              "      <td>47.0</td>\n",
              "      <td>4.4</td>\n",
              "      <td>8.2</td>\n",
              "      <td>8.2</td>\n",
              "      <td>0.347</td>\n",
              "      <td>7.1</td>\n",
              "    </tr>\n",
              "    <tr>\n",
              "      <th>528</th>\n",
              "      <td>Chad</td>\n",
              "      <td>2015</td>\n",
              "      <td>Developing</td>\n",
              "      <td>53.1</td>\n",
              "      <td>356.0</td>\n",
              "      <td>46</td>\n",
              "      <td>2.56</td>\n",
              "      <td>0.0</td>\n",
              "      <td>418</td>\n",
              "      <td>19.1</td>\n",
              "      <td>77</td>\n",
              "      <td>52.0</td>\n",
              "      <td>5.4</td>\n",
              "      <td>46.0</td>\n",
              "      <td>2.8</td>\n",
              "      <td>8.5</td>\n",
              "      <td>8.4</td>\n",
              "      <td>0.394</td>\n",
              "      <td>7.3</td>\n",
              "    </tr>\n",
              "    <tr>\n",
              "      <th>721</th>\n",
              "      <td>Democratic Republic of the Congo</td>\n",
              "      <td>2015</td>\n",
              "      <td>Developing</td>\n",
              "      <td>59.8</td>\n",
              "      <td>258.0</td>\n",
              "      <td>236</td>\n",
              "      <td>2.56</td>\n",
              "      <td>0.0</td>\n",
              "      <td>5020</td>\n",
              "      <td>21.6</td>\n",
              "      <td>308</td>\n",
              "      <td>78.0</td>\n",
              "      <td>5.4</td>\n",
              "      <td>81.0</td>\n",
              "      <td>1.1</td>\n",
              "      <td>9.5</td>\n",
              "      <td>9.3</td>\n",
              "      <td>0.631</td>\n",
              "      <td>11.7</td>\n",
              "    </tr>\n",
              "    <tr>\n",
              "      <th>834</th>\n",
              "      <td>Equatorial Guinea</td>\n",
              "      <td>2015</td>\n",
              "      <td>Developing</td>\n",
              "      <td>58.2</td>\n",
              "      <td>32.0</td>\n",
              "      <td>3</td>\n",
              "      <td>2.56</td>\n",
              "      <td>0.0</td>\n",
              "      <td>1250</td>\n",
              "      <td>24.5</td>\n",
              "      <td>4</td>\n",
              "      <td>17.0</td>\n",
              "      <td>5.4</td>\n",
              "      <td>16.0</td>\n",
              "      <td>4.2</td>\n",
              "      <td>8.4</td>\n",
              "      <td>8.3</td>\n",
              "      <td>0.582</td>\n",
              "      <td>9.2</td>\n",
              "    </tr>\n",
              "    <tr>\n",
              "      <th>1074</th>\n",
              "      <td>Guinea</td>\n",
              "      <td>2015</td>\n",
              "      <td>Developing</td>\n",
              "      <td>59.0</td>\n",
              "      <td>284.0</td>\n",
              "      <td>26</td>\n",
              "      <td>2.56</td>\n",
              "      <td>0.0</td>\n",
              "      <td>243</td>\n",
              "      <td>23.3</td>\n",
              "      <td>40</td>\n",
              "      <td>42.0</td>\n",
              "      <td>5.4</td>\n",
              "      <td>54.0</td>\n",
              "      <td>0.5</td>\n",
              "      <td>7.3</td>\n",
              "      <td>7.3</td>\n",
              "      <td>0.414</td>\n",
              "      <td>8.8</td>\n",
              "    </tr>\n",
              "    <tr>\n",
              "      <th>1090</th>\n",
              "      <td>Guinea-Bissau</td>\n",
              "      <td>2015</td>\n",
              "      <td>Developing</td>\n",
              "      <td>58.9</td>\n",
              "      <td>275.0</td>\n",
              "      <td>4</td>\n",
              "      <td>2.56</td>\n",
              "      <td>0.0</td>\n",
              "      <td>153</td>\n",
              "      <td>26.3</td>\n",
              "      <td>6</td>\n",
              "      <td>87.0</td>\n",
              "      <td>5.4</td>\n",
              "      <td>87.0</td>\n",
              "      <td>3.2</td>\n",
              "      <td>7.1</td>\n",
              "      <td>7.0</td>\n",
              "      <td>0.421</td>\n",
              "      <td>9.2</td>\n",
              "    </tr>\n",
              "    <tr>\n",
              "      <th>1474</th>\n",
              "      <td>Lesotho</td>\n",
              "      <td>2015</td>\n",
              "      <td>Developing</td>\n",
              "      <td>53.7</td>\n",
              "      <td>484.0</td>\n",
              "      <td>4</td>\n",
              "      <td>2.56</td>\n",
              "      <td>0.0</td>\n",
              "      <td>0</td>\n",
              "      <td>32.6</td>\n",
              "      <td>6</td>\n",
              "      <td>9.0</td>\n",
              "      <td>5.4</td>\n",
              "      <td>93.0</td>\n",
              "      <td>9.3</td>\n",
              "      <td>5.5</td>\n",
              "      <td>5.3</td>\n",
              "      <td>0.495</td>\n",
              "      <td>10.7</td>\n",
              "    </tr>\n",
              "    <tr>\n",
              "      <th>1570</th>\n",
              "      <td>Malawi</td>\n",
              "      <td>2015</td>\n",
              "      <td>Developing</td>\n",
              "      <td>58.3</td>\n",
              "      <td>365.0</td>\n",
              "      <td>26</td>\n",
              "      <td>2.56</td>\n",
              "      <td>0.0</td>\n",
              "      <td>0</td>\n",
              "      <td>19.6</td>\n",
              "      <td>38</td>\n",
              "      <td>88.0</td>\n",
              "      <td>5.4</td>\n",
              "      <td>88.0</td>\n",
              "      <td>4.8</td>\n",
              "      <td>6.4</td>\n",
              "      <td>6.2</td>\n",
              "      <td>0.473</td>\n",
              "      <td>10.8</td>\n",
              "    </tr>\n",
              "    <tr>\n",
              "      <th>1618</th>\n",
              "      <td>Mali</td>\n",
              "      <td>2015</td>\n",
              "      <td>Developing</td>\n",
              "      <td>58.2</td>\n",
              "      <td>266.0</td>\n",
              "      <td>52</td>\n",
              "      <td>2.56</td>\n",
              "      <td>0.0</td>\n",
              "      <td>215</td>\n",
              "      <td>23.8</td>\n",
              "      <td>84</td>\n",
              "      <td>66.0</td>\n",
              "      <td>5.4</td>\n",
              "      <td>64.0</td>\n",
              "      <td>1.5</td>\n",
              "      <td>7.7</td>\n",
              "      <td>7.5</td>\n",
              "      <td>0.438</td>\n",
              "      <td>8.4</td>\n",
              "    </tr>\n",
              "    <tr>\n",
              "      <th>1764</th>\n",
              "      <td>Mozambique</td>\n",
              "      <td>2015</td>\n",
              "      <td>Developing</td>\n",
              "      <td>57.6</td>\n",
              "      <td>355.0</td>\n",
              "      <td>60</td>\n",
              "      <td>2.56</td>\n",
              "      <td>0.0</td>\n",
              "      <td>79</td>\n",
              "      <td>22.6</td>\n",
              "      <td>81</td>\n",
              "      <td>8.0</td>\n",
              "      <td>5.4</td>\n",
              "      <td>8.0</td>\n",
              "      <td>3.9</td>\n",
              "      <td>3.6</td>\n",
              "      <td>3.5</td>\n",
              "      <td>0.414</td>\n",
              "      <td>9.1</td>\n",
              "    </tr>\n",
              "    <tr>\n",
              "      <th>1893</th>\n",
              "      <td>Nigeria</td>\n",
              "      <td>2015</td>\n",
              "      <td>Developing</td>\n",
              "      <td>54.5</td>\n",
              "      <td>344.0</td>\n",
              "      <td>483</td>\n",
              "      <td>2.56</td>\n",
              "      <td>0.0</td>\n",
              "      <td>12423</td>\n",
              "      <td>25.4</td>\n",
              "      <td>747</td>\n",
              "      <td>49.0</td>\n",
              "      <td>5.4</td>\n",
              "      <td>49.0</td>\n",
              "      <td>3.7</td>\n",
              "      <td>9.8</td>\n",
              "      <td>9.7</td>\n",
              "      <td>0.525</td>\n",
              "      <td>10.0</td>\n",
              "    </tr>\n",
              "    <tr>\n",
              "      <th>2297</th>\n",
              "      <td>Sierra Leone</td>\n",
              "      <td>2015</td>\n",
              "      <td>Developing</td>\n",
              "      <td>51.0</td>\n",
              "      <td>413.0</td>\n",
              "      <td>22</td>\n",
              "      <td>2.56</td>\n",
              "      <td>0.0</td>\n",
              "      <td>607</td>\n",
              "      <td>24.4</td>\n",
              "      <td>30</td>\n",
              "      <td>86.0</td>\n",
              "      <td>5.4</td>\n",
              "      <td>86.0</td>\n",
              "      <td>0.5</td>\n",
              "      <td>7.4</td>\n",
              "      <td>7.3</td>\n",
              "      <td>0.431</td>\n",
              "      <td>9.5</td>\n",
              "    </tr>\n",
              "    <tr>\n",
              "      <th>2377</th>\n",
              "      <td>Somalia</td>\n",
              "      <td>2015</td>\n",
              "      <td>Developing</td>\n",
              "      <td>55.0</td>\n",
              "      <td>312.0</td>\n",
              "      <td>50</td>\n",
              "      <td>2.56</td>\n",
              "      <td>0.0</td>\n",
              "      <td>7497</td>\n",
              "      <td>24.3</td>\n",
              "      <td>80</td>\n",
              "      <td>47.0</td>\n",
              "      <td>5.4</td>\n",
              "      <td>42.0</td>\n",
              "      <td>0.7</td>\n",
              "      <td>6.6</td>\n",
              "      <td>6.4</td>\n",
              "      <td>0.631</td>\n",
              "      <td>11.7</td>\n",
              "    </tr>\n",
              "    <tr>\n",
              "      <th>2409</th>\n",
              "      <td>South Sudan</td>\n",
              "      <td>2015</td>\n",
              "      <td>Developing</td>\n",
              "      <td>57.3</td>\n",
              "      <td>332.0</td>\n",
              "      <td>26</td>\n",
              "      <td>2.56</td>\n",
              "      <td>0.0</td>\n",
              "      <td>878</td>\n",
              "      <td>35.2</td>\n",
              "      <td>39</td>\n",
              "      <td>41.0</td>\n",
              "      <td>5.4</td>\n",
              "      <td>31.0</td>\n",
              "      <td>3.4</td>\n",
              "      <td>4.5</td>\n",
              "      <td>4.6</td>\n",
              "      <td>0.421</td>\n",
              "      <td>4.9</td>\n",
              "    </tr>\n",
              "    <tr>\n",
              "      <th>2489</th>\n",
              "      <td>Swaziland</td>\n",
              "      <td>2015</td>\n",
              "      <td>Developing</td>\n",
              "      <td>58.9</td>\n",
              "      <td>373.0</td>\n",
              "      <td>2</td>\n",
              "      <td>2.56</td>\n",
              "      <td>0.0</td>\n",
              "      <td>0</td>\n",
              "      <td>32.3</td>\n",
              "      <td>3</td>\n",
              "      <td>84.0</td>\n",
              "      <td>5.4</td>\n",
              "      <td>9.0</td>\n",
              "      <td>7.1</td>\n",
              "      <td>4.0</td>\n",
              "      <td>4.1</td>\n",
              "      <td>0.541</td>\n",
              "      <td>11.4</td>\n",
              "    </tr>\n",
              "    <tr>\n",
              "      <th>2617</th>\n",
              "      <td>Togo</td>\n",
              "      <td>2015</td>\n",
              "      <td>Developing</td>\n",
              "      <td>59.9</td>\n",
              "      <td>287.0</td>\n",
              "      <td>13</td>\n",
              "      <td>2.56</td>\n",
              "      <td>0.0</td>\n",
              "      <td>20</td>\n",
              "      <td>24.3</td>\n",
              "      <td>20</td>\n",
              "      <td>88.0</td>\n",
              "      <td>5.4</td>\n",
              "      <td>88.0</td>\n",
              "      <td>1.0</td>\n",
              "      <td>6.5</td>\n",
              "      <td>6.2</td>\n",
              "      <td>0.484</td>\n",
              "      <td>12.0</td>\n",
              "    </tr>\n",
              "  </tbody>\n",
              "</table>\n",
              "</div>\n",
              "      <button class=\"colab-df-convert\" onclick=\"convertToInteractive('df-3ace408b-98c0-4695-9395-62443b6f2200')\"\n",
              "              title=\"Convert this dataframe to an interactive table.\"\n",
              "              style=\"display:none;\">\n",
              "        \n",
              "  <svg xmlns=\"http://www.w3.org/2000/svg\" height=\"24px\"viewBox=\"0 0 24 24\"\n",
              "       width=\"24px\">\n",
              "    <path d=\"M0 0h24v24H0V0z\" fill=\"none\"/>\n",
              "    <path d=\"M18.56 5.44l.94 2.06.94-2.06 2.06-.94-2.06-.94-.94-2.06-.94 2.06-2.06.94zm-11 1L8.5 8.5l.94-2.06 2.06-.94-2.06-.94L8.5 2.5l-.94 2.06-2.06.94zm10 10l.94 2.06.94-2.06 2.06-.94-2.06-.94-.94-2.06-.94 2.06-2.06.94z\"/><path d=\"M17.41 7.96l-1.37-1.37c-.4-.4-.92-.59-1.43-.59-.52 0-1.04.2-1.43.59L10.3 9.45l-7.72 7.72c-.78.78-.78 2.05 0 2.83L4 21.41c.39.39.9.59 1.41.59.51 0 1.02-.2 1.41-.59l7.78-7.78 2.81-2.81c.8-.78.8-2.07 0-2.86zM5.41 20L4 18.59l7.72-7.72 1.47 1.35L5.41 20z\"/>\n",
              "  </svg>\n",
              "      </button>\n",
              "      \n",
              "  <style>\n",
              "    .colab-df-container {\n",
              "      display:flex;\n",
              "      flex-wrap:wrap;\n",
              "      gap: 12px;\n",
              "    }\n",
              "\n",
              "    .colab-df-convert {\n",
              "      background-color: #E8F0FE;\n",
              "      border: none;\n",
              "      border-radius: 50%;\n",
              "      cursor: pointer;\n",
              "      display: none;\n",
              "      fill: #1967D2;\n",
              "      height: 32px;\n",
              "      padding: 0 0 0 0;\n",
              "      width: 32px;\n",
              "    }\n",
              "\n",
              "    .colab-df-convert:hover {\n",
              "      background-color: #E2EBFA;\n",
              "      box-shadow: 0px 1px 2px rgba(60, 64, 67, 0.3), 0px 1px 3px 1px rgba(60, 64, 67, 0.15);\n",
              "      fill: #174EA6;\n",
              "    }\n",
              "\n",
              "    [theme=dark] .colab-df-convert {\n",
              "      background-color: #3B4455;\n",
              "      fill: #D2E3FC;\n",
              "    }\n",
              "\n",
              "    [theme=dark] .colab-df-convert:hover {\n",
              "      background-color: #434B5C;\n",
              "      box-shadow: 0px 1px 3px 1px rgba(0, 0, 0, 0.15);\n",
              "      filter: drop-shadow(0px 1px 2px rgba(0, 0, 0, 0.3));\n",
              "      fill: #FFFFFF;\n",
              "    }\n",
              "  </style>\n",
              "\n",
              "      <script>\n",
              "        const buttonEl =\n",
              "          document.querySelector('#df-3ace408b-98c0-4695-9395-62443b6f2200 button.colab-df-convert');\n",
              "        buttonEl.style.display =\n",
              "          google.colab.kernel.accessAllowed ? 'block' : 'none';\n",
              "\n",
              "        async function convertToInteractive(key) {\n",
              "          const element = document.querySelector('#df-3ace408b-98c0-4695-9395-62443b6f2200');\n",
              "          const dataTable =\n",
              "            await google.colab.kernel.invokeFunction('convertToInteractive',\n",
              "                                                     [key], {});\n",
              "          if (!dataTable) return;\n",
              "\n",
              "          const docLinkHtml = 'Like what you see? Visit the ' +\n",
              "            '<a target=\"_blank\" href=https://colab.research.google.com/notebooks/data_table.ipynb>data table notebook</a>'\n",
              "            + ' to learn more about interactive tables.';\n",
              "          element.innerHTML = '';\n",
              "          dataTable['output_type'] = 'display_data';\n",
              "          await google.colab.output.renderOutput(dataTable, element);\n",
              "          const docLink = document.createElement('div');\n",
              "          docLink.innerHTML = docLinkHtml;\n",
              "          element.appendChild(docLink);\n",
              "        }\n",
              "      </script>\n",
              "    </div>\n",
              "  </div>\n",
              "  "
            ]
          },
          "metadata": {},
          "execution_count": 32
        }
      ]
    },
    {
      "cell_type": "markdown",
      "metadata": {
        "id": "sfZ03TLJnATc"
      },
      "source": [
        "---"
      ]
    },
    {
      "cell_type": "markdown",
      "metadata": {
        "id": "ewzFUrdtnB5F"
      },
      "source": [
        "#### 7. Finding Correlation\n",
        "\n",
        "Find the columns that are highly correlated with the `Life expectancy` column. For this, calculate the correlation coefficient values between all the columns and then use a heatmap to visualise these correlations."
      ]
    },
    {
      "cell_type": "code",
      "metadata": {
        "id": "KAYKIvT4Sk3F",
        "colab": {
          "base_uri": "https://localhost:8080/",
          "height": 476
        },
        "outputId": "76ac063f-f0d1-4abd-94ee-8a0e7607026b"
      },
      "source": [
        "# calculate correlation coefficient for all columns of the original DataFrame\n",
        "corr_df = df.corr()\n",
        "# Use heatmap to observe correlations.\n",
        "plt.figure(figsize=(30, 10))\n",
        "sns.heatmap(data=corr_df, annot=True)\n",
        "plt.show()\n"
      ],
      "execution_count": null,
      "outputs": [
        {
          "output_type": "display_data",
          "data": {
            "text/plain": [
              "<Figure size 2160x720 with 2 Axes>"
            ],
            "image/png": "[encoded data removed]"
          },
          "metadata": {}
        }
      ]
    },
    {
      "cell_type": "markdown",
      "metadata": {
        "id": "0d6SEpws3u73"
      },
      "source": [
        "**Q:** Which attribute(s) have an extremely strong **positive** correlation with `Life expectancy`?\n",
        "\n",
        "**A:** BMI, Income composition of resources and Schooling.\n",
        "\n",
        "\n",
        "\n",
        "**Q:** Which attribute(s) have an extremely strong **negative** correlation with `Life expectancy`?\n",
        "\n",
        "**A:**  Adult Mortality and HIV/AIDS.\n",
        "\n",
        "\n",
        "\n",
        "\n",
        "**Q:** By observing the correlation heatmap, find out other attributes or features that are highly correlated with each other (excluding Life expectancy).\n",
        "\n",
        "**A:** Infant deaths and under-five deaths, thinness 1-19 years and thinness 5-9 years, Income compositionn of resources and schooling."
      ]
    },
    {
      "cell_type": "markdown",
      "metadata": {
        "id": "bXpq2A9PYzwL"
      },
      "source": [
        "---"
      ]
    },
    {
      "cell_type": "markdown",
      "metadata": {
        "id": "gdfTt53hldln"
      },
      "source": [
        "### Submitting the Project\n",
        "\n",
        "Follow the steps described below to submit the project.\n",
        "\n",
        "1. After finishing the project, click on the **Share** button on the top right corner of the notebook. A new dialog box will appear.\n",
        "\n",
        "  <img src='https://student-datasets-bucket.s3.ap-south-1.amazonaws.com/images/project-share-images/2_share_button.png' width=500>\n",
        "\n",
        "2. In the dialog box, click on the **Copy link** button.\n",
        "\n",
        "   <img src='https://student-datasets-bucket.s3.ap-south-1.amazonaws.com/images/project-share-images/3_copy_link.png' width=500>\n",
        "\n",
        "\n",
        "3. The link of the duplicate copy (named as **YYYY-MM-DD_StudentName_CapstoneProject14**) of the notebook will get copied\n",
        "\n",
        "   <img src='https://student-datasets-bucket.s3.ap-south-1.amazonaws.com/images/project-share-images/4_copy_link_confirmation.png' width=500>\n",
        "\n",
        "4. Go to your dashboard and click on the **My Projects** option.\n",
        "\n",
        "   <img src='https://student-datasets-bucket.s3.ap-south-1.amazonaws.com/images/project-share-images/5_student_dashboard.png' width=800>\n",
        "\n",
        "   <img src='https://student-datasets-bucket.s3.ap-south-1.amazonaws.com/images/project-share-images/6_my_projects.png' width=800>\n",
        "\n",
        "5. Click on the **View Project** button for the project you want to submit.\n",
        "\n",
        "   <img src='https://student-datasets-bucket.s3.ap-south-1.amazonaws.com/images/project-share-images/7_view_project.png' width=800>\n",
        "\n",
        "6. Click on the **Submit Project Here** button.\n",
        "\n",
        "   <img src='https://student-datasets-bucket.s3.ap-south-1.amazonaws.com/images/project-share-images/8_submit_project.png' width=800>\n",
        "\n",
        "7. Paste the link to the project file named as **YYYY-MM-DD_StudentName_CapstoneProject14** in the URL box and then click on the **Submit** button.\n",
        "\n",
        "   <img src='https://student-datasets-bucket.s3.ap-south-1.amazonaws.com/images/project-share-images/9_enter_project_url.png' width=800>\n"
      ]
    },
    {
      "cell_type": "markdown",
      "metadata": {
        "id": "tLw7_fXplt2e"
      },
      "source": [
        "---"
      ]
    }
  ]
}